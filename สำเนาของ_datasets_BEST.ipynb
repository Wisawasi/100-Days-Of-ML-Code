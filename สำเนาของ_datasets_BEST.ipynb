{
  "nbformat": 4,
  "nbformat_minor": 0,
  "metadata": {
    "colab": {
      "name": "สำเนาของ datasets.BEST.ipynb",
      "provenance": [],
      "collapsed_sections": [
        "SNGY-xUIpiS8"
      ],
      "include_colab_link": true
    },
    "kernelspec": {
      "name": "python3",
      "display_name": "Python 3"
    }
  },
  "cells": [
    {
      "cell_type": "markdown",
      "metadata": {
        "id": "view-in-github",
        "colab_type": "text"
      },
      "source": [
        "<a href=\"https://colab.research.google.com/github/Wisawasi/100-Days-Of-ML-Code/blob/master/%E0%B8%AA%E0%B8%B3%E0%B9%80%E0%B8%99%E0%B8%B2%E0%B8%82%E0%B8%AD%E0%B8%87_datasets_BEST.ipynb\" target=\"_parent\"><img src=\"https://colab.research.google.com/assets/colab-badge.svg\" alt=\"Open In Colab\"/></a>"
      ]
    },
    {
      "cell_type": "markdown",
      "metadata": {
        "id": "ZrOEmtlDig5H",
        "colab_type": "text"
      },
      "source": [
        "From [this gist](https://gist.github.com/korakot/abf6c18c71cefe7b9107689dd904751f)"
      ]
    },
    {
      "cell_type": "markdown",
      "metadata": {
        "id": "SNGY-xUIpiS8",
        "colab_type": "text"
      },
      "source": [
        "## Try"
      ]
    },
    {
      "cell_type": "code",
      "metadata": {
        "id": "zENrD1Ouq3u1",
        "colab_type": "code",
        "colab": {}
      },
      "source": [
        "from keras.datasets import *"
      ],
      "execution_count": null,
      "outputs": []
    },
    {
      "cell_type": "code",
      "metadata": {
        "id": "hntwR-acq72G",
        "colab_type": "code",
        "colab": {
          "base_uri": "https://localhost:8080/",
          "height": 34
        },
        "outputId": "e777487e-150f-4ea0-f034-d1f959ee1e22"
      },
      "source": [
        "mnist"
      ],
      "execution_count": null,
      "outputs": [
        {
          "output_type": "execute_result",
          "data": {
            "text/plain": [
              "<module 'keras.datasets.mnist' from '/usr/local/lib/python3.6/dist-packages/keras/datasets/mnist.py'>"
            ]
          },
          "metadata": {
            "tags": []
          },
          "execution_count": 16
        }
      ]
    },
    {
      "cell_type": "code",
      "metadata": {
        "id": "f9nbWeXyiKRa",
        "colab_type": "code",
        "colab": {}
      },
      "source": [
        "import os\n",
        "from urllib.request import urlretrieve"
      ],
      "execution_count": null,
      "outputs": []
    },
    {
      "cell_type": "code",
      "metadata": {
        "id": "q-1vROWMizOc",
        "colab_type": "code",
        "colab": {}
      },
      "source": [
        "genres = ['article', 'encyclopedia', 'news', 'novel']\n",
        "base = 'http://www.nectec.or.th/corpuso/phocadownload/dl_text_thai-eng/BEST/TrainingSet/'"
      ],
      "execution_count": null,
      "outputs": []
    },
    {
      "cell_type": "code",
      "metadata": {
        "id": "g-QCRR0KjZoP",
        "colab_type": "code",
        "colab": {}
      },
      "source": [
        "url = base + 'article.zip'\n",
        "fname, _ = urlretrieve(url)"
      ],
      "execution_count": null,
      "outputs": []
    },
    {
      "cell_type": "code",
      "metadata": {
        "id": "aFHW1WD9jwN9",
        "colab_type": "code",
        "colab": {
          "base_uri": "https://localhost:8080/",
          "height": 121
        },
        "outputId": "8dcad7dd-5a94-4b61-8732-231b033881c1"
      },
      "source": [
        "!ls -al"
      ],
      "execution_count": null,
      "outputs": [
        {
          "output_type": "stream",
          "text": [
            "total 28\n",
            "drwxr-xr-x 1 root root  4096 Jul  8 08:33 .\n",
            "drwxr-xr-x 1 root root  4096 Jul  8 08:28 ..\n",
            "drwxr-xr-x 2 root root 12288 Aug 19  2011 article\n",
            "drwxr-xr-x 1 root root  4096 Jun 26 16:26 .config\n",
            "drwxr-xr-x 1 root root  4096 Jun 26 16:26 sample_data\n"
          ],
          "name": "stdout"
        }
      ]
    },
    {
      "cell_type": "code",
      "metadata": {
        "id": "QpNThKV_jfr-",
        "colab_type": "code",
        "collapsed": true,
        "colab": {
          "base_uri": "https://localhost:8080/",
          "height": 1000
        },
        "outputId": "1ea038a4-531b-4838-e469-bb52269f2dfe"
      },
      "source": [
        "!unzip $fname"
      ],
      "execution_count": null,
      "outputs": [
        {
          "output_type": "stream",
          "text": [
            "Archive:  /tmp/tmpwuazskw1\n",
            "   creating: article/\n",
            "  inflating: article/article_00001.txt  \n",
            "  inflating: article/article_00002.txt  \n",
            "  inflating: article/article_00003.txt  \n",
            "  inflating: article/article_00004.txt  \n",
            "  inflating: article/article_00005.txt  \n",
            "  inflating: article/article_00006.txt  \n",
            "  inflating: article/article_00007.txt  \n",
            "  inflating: article/article_00008.txt  \n",
            "  inflating: article/article_00009.txt  \n",
            "  inflating: article/article_00010.txt  \n",
            "  inflating: article/article_00011.txt  \n",
            "  inflating: article/article_00012.txt  \n",
            "  inflating: article/article_00013.txt  \n",
            "  inflating: article/article_00014.txt  \n",
            "  inflating: article/article_00015.txt  \n",
            "  inflating: article/article_00016.txt  \n",
            "  inflating: article/article_00017.txt  \n",
            "  inflating: article/article_00018.txt  \n",
            "  inflating: article/article_00019.txt  \n",
            "  inflating: article/article_00020.txt  \n",
            "  inflating: article/article_00021.txt  \n",
            "  inflating: article/article_00022.txt  \n",
            "  inflating: article/article_00023.txt  \n",
            "  inflating: article/article_00024.txt  \n",
            "  inflating: article/article_00025.txt  \n",
            "  inflating: article/article_00026.txt  \n",
            "  inflating: article/article_00027.txt  \n",
            "  inflating: article/article_00028.txt  \n",
            "  inflating: article/article_00029.txt  \n",
            "  inflating: article/article_00030.txt  \n",
            "  inflating: article/article_00031.txt  \n",
            "  inflating: article/article_00032.txt  \n",
            "  inflating: article/article_00033.txt  \n",
            "  inflating: article/article_00034.txt  \n",
            "  inflating: article/article_00035.txt  \n",
            "  inflating: article/article_00036.txt  \n",
            "  inflating: article/article_00037.txt  \n",
            "  inflating: article/article_00038.txt  \n",
            "  inflating: article/article_00039.txt  \n",
            "  inflating: article/article_00040.txt  \n",
            "  inflating: article/article_00041.txt  \n",
            "  inflating: article/article_00042.txt  \n",
            "  inflating: article/article_00043.txt  \n",
            "  inflating: article/article_00044.txt  \n",
            "  inflating: article/article_00045.txt  \n",
            "  inflating: article/article_00046.txt  \n",
            "  inflating: article/article_00047.txt  \n",
            "  inflating: article/article_00048.txt  \n",
            "  inflating: article/article_00049.txt  \n",
            "  inflating: article/article_00050.txt  \n",
            "  inflating: article/article_00051.txt  \n",
            "  inflating: article/article_00052.txt  \n",
            "  inflating: article/article_00053.txt  \n",
            "  inflating: article/article_00054.txt  \n",
            "  inflating: article/article_00055.txt  \n",
            "  inflating: article/article_00056.txt  \n",
            "  inflating: article/article_00057.txt  \n",
            "  inflating: article/article_00059.txt  \n",
            "  inflating: article/article_00060.txt  \n",
            "  inflating: article/article_00061.txt  \n",
            "  inflating: article/article_00062.txt  \n",
            "  inflating: article/article_00063.txt  \n",
            "  inflating: article/article_00064.txt  \n",
            "  inflating: article/article_00065.txt  \n",
            "  inflating: article/article_00066.txt  \n",
            "  inflating: article/article_00068.txt  \n",
            "  inflating: article/article_00069.txt  \n",
            "  inflating: article/article_00070.txt  \n",
            "  inflating: article/article_00071.txt  \n",
            "  inflating: article/article_00072.txt  \n",
            "  inflating: article/article_00073.txt  \n",
            "  inflating: article/article_00074.txt  \n",
            "  inflating: article/article_00075.txt  \n",
            "  inflating: article/article_00076.txt  \n",
            "  inflating: article/article_00077.txt  \n",
            "  inflating: article/article_00078.txt  \n",
            "  inflating: article/article_00079.txt  \n",
            "  inflating: article/article_00080.txt  \n",
            "  inflating: article/article_00081.txt  \n",
            "  inflating: article/article_00082.txt  \n",
            "  inflating: article/article_00083.txt  \n",
            "  inflating: article/article_00084.txt  \n",
            "  inflating: article/article_00085.txt  \n",
            "  inflating: article/article_00086.txt  \n",
            "  inflating: article/article_00087.txt  \n",
            "  inflating: article/article_00088.txt  \n",
            "  inflating: article/article_00089.txt  \n",
            "  inflating: article/article_00090.txt  \n",
            "  inflating: article/article_00091.txt  \n",
            "  inflating: article/article_00092.txt  \n",
            "  inflating: article/article_00093.txt  \n",
            "  inflating: article/article_00094.txt  \n",
            "  inflating: article/article_00095.txt  \n",
            "  inflating: article/article_00096.txt  \n",
            "  inflating: article/article_00097.txt  \n",
            "  inflating: article/article_00098.txt  \n",
            "  inflating: article/article_00099.txt  \n",
            "  inflating: article/article_00100.txt  \n",
            "  inflating: article/article_00101.txt  \n",
            "  inflating: article/article_00102.txt  \n",
            "  inflating: article/article_00103.txt  \n",
            "  inflating: article/article_00104.txt  \n",
            "  inflating: article/article_00105.txt  \n",
            "  inflating: article/article_00106.txt  \n",
            "  inflating: article/article_00107.txt  \n",
            "  inflating: article/article_00108.txt  \n",
            "  inflating: article/article_00109.txt  \n",
            "  inflating: article/article_00110.txt  \n",
            "  inflating: article/article_00111.txt  \n",
            "  inflating: article/article_00112.txt  \n",
            "  inflating: article/article_00113.txt  \n",
            "  inflating: article/article_00114.txt  \n",
            "  inflating: article/article_00115.txt  \n",
            "  inflating: article/article_00116.txt  \n",
            "  inflating: article/article_00117.txt  \n",
            "  inflating: article/article_00118.txt  \n",
            "  inflating: article/article_00119.txt  \n",
            "  inflating: article/article_00120.txt  \n",
            "  inflating: article/article_00121.txt  \n",
            "  inflating: article/article_00122.txt  \n",
            "  inflating: article/article_00123.txt  \n",
            "  inflating: article/article_00124.txt  \n",
            "  inflating: article/article_00125.txt  \n",
            "  inflating: article/article_00126.txt  \n",
            "  inflating: article/article_00127.txt  \n",
            "  inflating: article/article_00128.txt  \n",
            "  inflating: article/article_00129.txt  \n",
            "  inflating: article/article_00130.txt  \n",
            "  inflating: article/article_00131.txt  \n",
            "  inflating: article/article_00132.txt  \n",
            "  inflating: article/article_00133.txt  \n",
            "  inflating: article/article_00134.txt  \n",
            "  inflating: article/article_00135.txt  \n",
            "  inflating: article/article_00136.txt  \n",
            "  inflating: article/article_00137.txt  \n",
            "  inflating: article/article_00138.txt  \n",
            "  inflating: article/article_00139.txt  \n",
            "  inflating: article/article_00140.txt  \n",
            "  inflating: article/article_00141.txt  \n",
            "  inflating: article/article_00142.txt  \n",
            "  inflating: article/article_00143.txt  \n",
            "  inflating: article/article_00144.txt  \n",
            "  inflating: article/article_00145.txt  \n",
            "  inflating: article/article_00146.txt  \n",
            "  inflating: article/article_00147.txt  \n",
            "  inflating: article/article_00148.txt  \n",
            "  inflating: article/article_00149.txt  \n",
            "  inflating: article/article_00150.txt  \n",
            "  inflating: article/article_00151.txt  \n",
            "  inflating: article/article_00152.txt  \n",
            "  inflating: article/article_00153.txt  \n",
            "  inflating: article/article_00154.txt  \n",
            "  inflating: article/article_00155.txt  \n",
            "  inflating: article/article_00156.txt  \n",
            "  inflating: article/article_00157.txt  \n",
            "  inflating: article/article_00158.txt  \n",
            "  inflating: article/article_00159.txt  \n",
            "  inflating: article/article_00160.txt  \n",
            "  inflating: article/article_00161.txt  \n",
            "  inflating: article/article_00162.txt  \n",
            "  inflating: article/article_00163.txt  \n",
            "  inflating: article/article_00164.txt  \n",
            "  inflating: article/article_00165.txt  \n",
            "  inflating: article/article_00166.txt  \n",
            "  inflating: article/article_00167.txt  \n",
            "  inflating: article/article_00168.txt  \n",
            "  inflating: article/article_00169.txt  \n",
            "  inflating: article/article_00170.txt  \n",
            "  inflating: article/article_00171.txt  \n",
            "  inflating: article/article_00172.txt  \n",
            "  inflating: article/article_00173.txt  \n",
            "  inflating: article/article_00174.txt  \n",
            "  inflating: article/article_00175.txt  \n",
            "  inflating: article/article_00176.txt  \n",
            "  inflating: article/article_00177.txt  \n",
            "  inflating: article/article_00178.txt  \n",
            "  inflating: article/article_00179.txt  \n",
            "  inflating: article/article_00180.txt  \n",
            "  inflating: article/article_00181.txt  \n",
            "  inflating: article/article_00183.txt  \n",
            "  inflating: article/article_00184.txt  \n",
            "  inflating: article/article_00185.txt  \n",
            "  inflating: article/article_00186.txt  \n",
            "  inflating: article/article_00187.txt  \n",
            "  inflating: article/article_00188.txt  \n",
            "  inflating: article/article_00189.txt  \n",
            "  inflating: article/article_00190.txt  \n",
            "  inflating: article/article_00191.txt  \n",
            "  inflating: article/article_00192.txt  \n",
            "  inflating: article/article_00193.txt  \n",
            "  inflating: article/article_00194.txt  \n",
            "  inflating: article/article_00195.txt  \n",
            "  inflating: article/article_00196.txt  \n",
            "  inflating: article/article_00197.txt  \n",
            "  inflating: article/article_00198.txt  \n"
          ],
          "name": "stdout"
        }
      ]
    },
    {
      "cell_type": "code",
      "metadata": {
        "id": "NjwwxpmskR9m",
        "colab_type": "code",
        "colab": {}
      },
      "source": [
        "!rm -r article"
      ],
      "execution_count": null,
      "outputs": []
    },
    {
      "cell_type": "code",
      "metadata": {
        "id": "Q_NrKKg6jiXu",
        "colab_type": "code",
        "colab": {}
      },
      "source": [
        "def download():\n",
        "    base = 'http://www.nectec.or.th/corpuso/phocadownload/dl_text_thai-eng/BEST/TrainingSet/'\n",
        "    genres = ['article', 'encyclopedia', 'news', 'novel']\n",
        "    print(\"Start downloading: .. \")\n",
        "    for genre in genres:\n",
        "        url = base + genre + '.zip'\n",
        "        fname, _ = urlretrieve(url)\n",
        "        os.system(f'unzip {fname}')\n",
        "        print(genre, end=' .. ')\n",
        "    print('\\nThe results are in these 4 folders')\n",
        "    return genres"
      ],
      "execution_count": null,
      "outputs": []
    },
    {
      "cell_type": "markdown",
      "metadata": {
        "id": "tKY9d0GupkuT",
        "colab_type": "text"
      },
      "source": [
        "## kora"
      ]
    },
    {
      "cell_type": "code",
      "metadata": {
        "id": "-85K5CkLplSW",
        "colab_type": "code",
        "colab": {}
      },
      "source": [
        "!pip install kora -q"
      ],
      "execution_count": null,
      "outputs": []
    },
    {
      "cell_type": "code",
      "metadata": {
        "id": "U9mZ7mDapozB",
        "colab_type": "code",
        "colab": {
          "base_uri": "https://localhost:8080/",
          "height": 86
        },
        "outputId": "41cea453-5a41-4be5-e01e-b4b6c7915f58"
      },
      "source": [
        "from kora.datasets import BEST\n",
        "BEST.download()"
      ],
      "execution_count": null,
      "outputs": [
        {
          "output_type": "stream",
          "text": [
            "Start downloading: .. \n",
            "article .. encyclopedia .. news .. novel .. \n",
            "The results are in these 4 folders\n"
          ],
          "name": "stdout"
        },
        {
          "output_type": "execute_result",
          "data": {
            "text/plain": [
              "['article', 'encyclopedia', 'news', 'novel']"
            ]
          },
          "metadata": {
            "tags": []
          },
          "execution_count": 12
        }
      ]
    },
    {
      "cell_type": "code",
      "metadata": {
        "id": "VWEPUbixps9J",
        "colab_type": "code",
        "colab": {
          "base_uri": "https://localhost:8080/",
          "height": 121
        },
        "outputId": "7108e610-5269-4c1b-9a58-b811f8f74e20"
      },
      "source": [
        "!ls -l"
      ],
      "execution_count": null,
      "outputs": [
        {
          "output_type": "stream",
          "text": [
            "total 28\n",
            "drwxr-xr-x 2 root root 12288 Aug 19  2011 article\n",
            "drwxr-xr-x 2 root root  4096 Aug 19  2011 encyclopedia\n",
            "drwxr-xr-x 2 root root  4096 Aug 19  2011 news\n",
            "drwxr-xr-x 2 root root  4096 Aug 19  2011 novel\n",
            "drwxr-xr-x 1 root root  4096 Jun 26 16:26 sample_data\n"
          ],
          "name": "stdout"
        }
      ]
    },
    {
      "cell_type": "code",
      "metadata": {
        "id": "hYfoHkz7py6c",
        "colab_type": "code",
        "colab": {
          "base_uri": "https://localhost:8080/",
          "height": 1000
        },
        "outputId": "76cfbe9d-a15a-458e-d74b-f2b52962e8b1"
      },
      "source": [
        "!ls -al article"
      ],
      "execution_count": null,
      "outputs": [
        {
          "output_type": "stream",
          "text": [
            "total 13980\n",
            "drwxr-xr-x 2 root root  12288 Aug 19  2011 .\n",
            "drwxr-xr-x 1 root root   4096 Jul  8 08:59 ..\n",
            "-rw-r--r-- 1 root root  69451 Jan 21  2011 article_00001.txt\n",
            "-rw-r--r-- 1 root root 115962 Jan 21  2011 article_00002.txt\n",
            "-rw-r--r-- 1 root root 110045 Jan 21  2011 article_00003.txt\n",
            "-rw-r--r-- 1 root root  42718 Jan 21  2011 article_00004.txt\n",
            "-rw-r--r-- 1 root root  81194 Jan 21  2011 article_00005.txt\n",
            "-rw-r--r-- 1 root root 112017 Jan 21  2011 article_00006.txt\n",
            "-rw-r--r-- 1 root root 115380 Jan 21  2011 article_00007.txt\n",
            "-rw-r--r-- 1 root root  30876 Jan 21  2011 article_00008.txt\n",
            "-rw-r--r-- 1 root root  68464 Jan 21  2011 article_00009.txt\n",
            "-rw-r--r-- 1 root root  20274 Jan 21  2011 article_00010.txt\n",
            "-rw-r--r-- 1 root root  94663 Jan 21  2011 article_00011.txt\n",
            "-rw-r--r-- 1 root root  78151 Jan 21  2011 article_00012.txt\n",
            "-rw-r--r-- 1 root root  70043 Jan 21  2011 article_00013.txt\n",
            "-rw-r--r-- 1 root root  43158 Jan 21  2011 article_00014.txt\n",
            "-rw-r--r-- 1 root root  13734 Jan 21  2011 article_00015.txt\n",
            "-rw-r--r-- 1 root root 116027 Jan 21  2011 article_00016.txt\n",
            "-rw-r--r-- 1 root root  46751 Jan 21  2011 article_00017.txt\n",
            "-rw-r--r-- 1 root root  88281 Jan 21  2011 article_00018.txt\n",
            "-rw-r--r-- 1 root root 216862 Jan 21  2011 article_00019.txt\n",
            "-rw-r--r-- 1 root root  73753 Jan 21  2011 article_00020.txt\n",
            "-rw-r--r-- 1 root root  57997 Jan 21  2011 article_00021.txt\n",
            "-rw-r--r-- 1 root root  44726 Jan 21  2011 article_00022.txt\n",
            "-rw-r--r-- 1 root root  81235 Jan 21  2011 article_00023.txt\n",
            "-rw-r--r-- 1 root root 117579 Jan 21  2011 article_00024.txt\n",
            "-rw-r--r-- 1 root root 100759 Jan 21  2011 article_00025.txt\n",
            "-rw-r--r-- 1 root root  41751 Jan 21  2011 article_00026.txt\n",
            "-rw-r--r-- 1 root root  87687 Jan 21  2011 article_00027.txt\n",
            "-rw-r--r-- 1 root root  34981 Jan 21  2011 article_00028.txt\n",
            "-rw-r--r-- 1 root root  41286 Jan 21  2011 article_00029.txt\n",
            "-rw-r--r-- 1 root root  25733 Jan 21  2011 article_00030.txt\n",
            "-rw-r--r-- 1 root root 109833 Jan 21  2011 article_00031.txt\n",
            "-rw-r--r-- 1 root root  54402 Jan 21  2011 article_00032.txt\n",
            "-rw-r--r-- 1 root root 136591 Jan 21  2011 article_00033.txt\n",
            "-rw-r--r-- 1 root root  52978 Jan 21  2011 article_00034.txt\n",
            "-rw-r--r-- 1 root root  21508 Jan 21  2011 article_00035.txt\n",
            "-rw-r--r-- 1 root root 104032 Jan 21  2011 article_00036.txt\n",
            "-rw-r--r-- 1 root root  86073 Jan 21  2011 article_00037.txt\n",
            "-rw-r--r-- 1 root root 149839 Jan 21  2011 article_00038.txt\n",
            "-rw-r--r-- 1 root root  64705 Jan 21  2011 article_00039.txt\n",
            "-rw-r--r-- 1 root root  53359 Jan 21  2011 article_00040.txt\n",
            "-rw-r--r-- 1 root root  24623 Jan 21  2011 article_00041.txt\n",
            "-rw-r--r-- 1 root root  20040 Jan 21  2011 article_00042.txt\n",
            "-rw-r--r-- 1 root root  42906 Jan 21  2011 article_00043.txt\n",
            "-rw-r--r-- 1 root root  32855 Jan 21  2011 article_00044.txt\n",
            "-rw-r--r-- 1 root root  56594 Jan 21  2011 article_00045.txt\n",
            "-rw-r--r-- 1 root root  42651 Jan 21  2011 article_00046.txt\n",
            "-rw-r--r-- 1 root root  48563 Jan 21  2011 article_00047.txt\n",
            "-rw-r--r-- 1 root root  43770 Jan 21  2011 article_00048.txt\n",
            "-rw-r--r-- 1 root root  74492 Jan 21  2011 article_00049.txt\n",
            "-rw-r--r-- 1 root root  83059 Jan 21  2011 article_00050.txt\n",
            "-rw-r--r-- 1 root root  66765 Jan 21  2011 article_00051.txt\n",
            "-rw-r--r-- 1 root root  29945 Jan 21  2011 article_00052.txt\n",
            "-rw-r--r-- 1 root root  82244 Jan 21  2011 article_00053.txt\n",
            "-rw-r--r-- 1 root root  88361 Jan 21  2011 article_00054.txt\n",
            "-rw-r--r-- 1 root root 125265 Jan 21  2011 article_00055.txt\n",
            "-rw-r--r-- 1 root root 132778 Jan 21  2011 article_00056.txt\n",
            "-rw-r--r-- 1 root root  87282 Jan 21  2011 article_00057.txt\n",
            "-rw-r--r-- 1 root root 122013 Jan 21  2011 article_00059.txt\n",
            "-rw-r--r-- 1 root root  79153 Jan 21  2011 article_00060.txt\n",
            "-rw-r--r-- 1 root root  51496 Jan 21  2011 article_00061.txt\n",
            "-rw-r--r-- 1 root root  40925 Jan 21  2011 article_00062.txt\n",
            "-rw-r--r-- 1 root root  24950 Jan 21  2011 article_00063.txt\n",
            "-rw-r--r-- 1 root root  76145 Jan 21  2011 article_00064.txt\n",
            "-rw-r--r-- 1 root root  27972 Jan 21  2011 article_00065.txt\n",
            "-rw-r--r-- 1 root root  41171 Jan 21  2011 article_00066.txt\n",
            "-rw-r--r-- 1 root root  21060 Jan 21  2011 article_00068.txt\n",
            "-rw-r--r-- 1 root root  78715 Jan 21  2011 article_00069.txt\n",
            "-rw-r--r-- 1 root root 107602 Jan 21  2011 article_00070.txt\n",
            "-rw-r--r-- 1 root root  93346 Jan 21  2011 article_00071.txt\n",
            "-rw-r--r-- 1 root root 119741 Jan 21  2011 article_00072.txt\n",
            "-rw-r--r-- 1 root root 126355 Jan 21  2011 article_00073.txt\n",
            "-rw-r--r-- 1 root root  42528 Jan 21  2011 article_00074.txt\n",
            "-rw-r--r-- 1 root root  81318 Jan 21  2011 article_00075.txt\n",
            "-rw-r--r-- 1 root root  96861 Jan 21  2011 article_00076.txt\n",
            "-rw-r--r-- 1 root root  62632 Jan 21  2011 article_00077.txt\n",
            "-rw-r--r-- 1 root root  62845 Jan 21  2011 article_00078.txt\n",
            "-rw-r--r-- 1 root root  97453 Jan 21  2011 article_00079.txt\n",
            "-rw-r--r-- 1 root root 139657 Jan 21  2011 article_00080.txt\n",
            "-rw-r--r-- 1 root root  40651 Jan 21  2011 article_00081.txt\n",
            "-rw-r--r-- 1 root root  59949 Jan 21  2011 article_00082.txt\n",
            "-rw-r--r-- 1 root root  41492 Jan 21  2011 article_00083.txt\n",
            "-rw-r--r-- 1 root root  91065 Jan 21  2011 article_00084.txt\n",
            "-rw-r--r-- 1 root root  54200 Jan 21  2011 article_00085.txt\n",
            "-rw-r--r-- 1 root root  54648 Jan 21  2011 article_00086.txt\n",
            "-rw-r--r-- 1 root root  79372 Jan 21  2011 article_00087.txt\n",
            "-rw-r--r-- 1 root root  32115 Jan 21  2011 article_00088.txt\n",
            "-rw-r--r-- 1 root root  74012 Jan 21  2011 article_00089.txt\n",
            "-rw-r--r-- 1 root root  99788 Jan 21  2011 article_00090.txt\n",
            "-rw-r--r-- 1 root root 102254 Jan 21  2011 article_00091.txt\n",
            "-rw-r--r-- 1 root root  47657 Jan 21  2011 article_00092.txt\n",
            "-rw-r--r-- 1 root root  72093 Jan 21  2011 article_00093.txt\n",
            "-rw-r--r-- 1 root root  48950 Jan 21  2011 article_00094.txt\n",
            "-rw-r--r-- 1 root root 139512 Jan 21  2011 article_00095.txt\n",
            "-rw-r--r-- 1 root root  57041 Jan 21  2011 article_00096.txt\n",
            "-rw-r--r-- 1 root root  29919 Jan 21  2011 article_00097.txt\n",
            "-rw-r--r-- 1 root root 113710 Jan 21  2011 article_00098.txt\n",
            "-rw-r--r-- 1 root root  80227 Jan 21  2011 article_00099.txt\n",
            "-rw-r--r-- 1 root root  37863 Jan 21  2011 article_00100.txt\n",
            "-rw-r--r-- 1 root root  19167 Jan 21  2011 article_00101.txt\n",
            "-rw-r--r-- 1 root root  29604 Jan 21  2011 article_00102.txt\n",
            "-rw-r--r-- 1 root root  29665 Jan 21  2011 article_00103.txt\n",
            "-rw-r--r-- 1 root root  92066 Jan 21  2011 article_00104.txt\n",
            "-rw-r--r-- 1 root root 135143 Jan 21  2011 article_00105.txt\n",
            "-rw-r--r-- 1 root root  71441 Jan 21  2011 article_00106.txt\n",
            "-rw-r--r-- 1 root root  79592 Jan 21  2011 article_00107.txt\n",
            "-rw-r--r-- 1 root root  49086 Jan 21  2011 article_00108.txt\n",
            "-rw-r--r-- 1 root root  66555 Jan 21  2011 article_00109.txt\n",
            "-rw-r--r-- 1 root root 100851 Jan 21  2011 article_00110.txt\n",
            "-rw-r--r-- 1 root root  31577 Jan 21  2011 article_00111.txt\n",
            "-rw-r--r-- 1 root root  63161 Jan 21  2011 article_00112.txt\n",
            "-rw-r--r-- 1 root root  59547 Jan 21  2011 article_00113.txt\n",
            "-rw-r--r-- 1 root root  60816 Jan 21  2011 article_00114.txt\n",
            "-rw-r--r-- 1 root root  77386 Jan 21  2011 article_00115.txt\n",
            "-rw-r--r-- 1 root root  56328 Jan 21  2011 article_00116.txt\n",
            "-rw-r--r-- 1 root root  47039 Jan 21  2011 article_00117.txt\n",
            "-rw-r--r-- 1 root root  70431 Jan 21  2011 article_00118.txt\n",
            "-rw-r--r-- 1 root root  70877 Jan 21  2011 article_00119.txt\n",
            "-rw-r--r-- 1 root root  80534 Jan 21  2011 article_00120.txt\n",
            "-rw-r--r-- 1 root root  54453 Jan 21  2011 article_00121.txt\n",
            "-rw-r--r-- 1 root root  69033 Jan 21  2011 article_00122.txt\n",
            "-rw-r--r-- 1 root root 204463 Jan 21  2011 article_00123.txt\n",
            "-rw-r--r-- 1 root root  60491 Jan 21  2011 article_00124.txt\n",
            "-rw-r--r-- 1 root root  59514 Jan 21  2011 article_00125.txt\n",
            "-rw-r--r-- 1 root root  77995 Jan 21  2011 article_00126.txt\n",
            "-rw-r--r-- 1 root root 127099 Jan 21  2011 article_00127.txt\n",
            "-rw-r--r-- 1 root root 156607 Jan 21  2011 article_00128.txt\n",
            "-rw-r--r-- 1 root root 132832 Jan 21  2011 article_00129.txt\n",
            "-rw-r--r-- 1 root root  53514 Jan 21  2011 article_00130.txt\n",
            "-rw-r--r-- 1 root root 133807 Jan 21  2011 article_00131.txt\n",
            "-rw-r--r-- 1 root root  55894 Jan 21  2011 article_00132.txt\n",
            "-rw-r--r-- 1 root root  70119 Jan 21  2011 article_00133.txt\n",
            "-rw-r--r-- 1 root root 108813 Jan 21  2011 article_00134.txt\n",
            "-rw-r--r-- 1 root root  57494 Jan 21  2011 article_00135.txt\n",
            "-rw-r--r-- 1 root root 119591 Jan 21  2011 article_00136.txt\n",
            "-rw-r--r-- 1 root root  37206 Jan 21  2011 article_00137.txt\n",
            "-rw-r--r-- 1 root root 128870 Jan 21  2011 article_00138.txt\n",
            "-rw-r--r-- 1 root root 137922 Jan 21  2011 article_00139.txt\n",
            "-rw-r--r-- 1 root root  31570 Jan 21  2011 article_00140.txt\n",
            "-rw-r--r-- 1 root root  35697 Jan 21  2011 article_00141.txt\n",
            "-rw-r--r-- 1 root root  33650 Jan 21  2011 article_00142.txt\n",
            "-rw-r--r-- 1 root root 111385 Jan 21  2011 article_00143.txt\n",
            "-rw-r--r-- 1 root root  32477 Jan 21  2011 article_00144.txt\n",
            "-rw-r--r-- 1 root root  13000 Jan 21  2011 article_00145.txt\n",
            "-rw-r--r-- 1 root root  71280 Jan 21  2011 article_00146.txt\n",
            "-rw-r--r-- 1 root root  32474 Jan 21  2011 article_00147.txt\n",
            "-rw-r--r-- 1 root root  47129 Jan 21  2011 article_00148.txt\n",
            "-rw-r--r-- 1 root root  34578 Jan 21  2011 article_00149.txt\n",
            "-rw-r--r-- 1 root root  23004 Jan 21  2011 article_00150.txt\n",
            "-rw-r--r-- 1 root root  28394 Jan 21  2011 article_00151.txt\n",
            "-rw-r--r-- 1 root root  58308 Jan 21  2011 article_00152.txt\n",
            "-rw-r--r-- 1 root root  53134 Jan 21  2011 article_00153.txt\n",
            "-rw-r--r-- 1 root root  30088 Jan 21  2011 article_00154.txt\n",
            "-rw-r--r-- 1 root root 116710 Jan 21  2011 article_00155.txt\n",
            "-rw-r--r-- 1 root root  56700 Jan 21  2011 article_00156.txt\n",
            "-rw-r--r-- 1 root root  32527 Jan 21  2011 article_00157.txt\n",
            "-rw-r--r-- 1 root root  39605 Jan 21  2011 article_00158.txt\n",
            "-rw-r--r-- 1 root root 116046 Jan 21  2011 article_00159.txt\n",
            "-rw-r--r-- 1 root root  49782 Jan 21  2011 article_00160.txt\n",
            "-rw-r--r-- 1 root root  97972 Jan 21  2011 article_00161.txt\n",
            "-rw-r--r-- 1 root root  64805 Jan 21  2011 article_00162.txt\n",
            "-rw-r--r-- 1 root root  22161 Jan 21  2011 article_00163.txt\n",
            "-rw-r--r-- 1 root root  60382 Jan 21  2011 article_00164.txt\n",
            "-rw-r--r-- 1 root root 103699 Jan 21  2011 article_00165.txt\n",
            "-rw-r--r-- 1 root root  99495 Jan 21  2011 article_00166.txt\n",
            "-rw-r--r-- 1 root root  19258 Jan 21  2011 article_00167.txt\n",
            "-rw-r--r-- 1 root root 105478 Jan 21  2011 article_00168.txt\n",
            "-rw-r--r-- 1 root root  58054 Jan 21  2011 article_00169.txt\n",
            "-rw-r--r-- 1 root root  52705 Jan 21  2011 article_00170.txt\n",
            "-rw-r--r-- 1 root root  80029 Jan 21  2011 article_00171.txt\n",
            "-rw-r--r-- 1 root root  15673 Jan 21  2011 article_00172.txt\n",
            "-rw-r--r-- 1 root root  44739 Jan 21  2011 article_00173.txt\n",
            "-rw-r--r-- 1 root root  66351 Jan 21  2011 article_00174.txt\n",
            "-rw-r--r-- 1 root root  50413 Jan 21  2011 article_00175.txt\n",
            "-rw-r--r-- 1 root root  86056 Jan 21  2011 article_00176.txt\n",
            "-rw-r--r-- 1 root root  17485 Jan 21  2011 article_00177.txt\n",
            "-rw-r--r-- 1 root root  48483 Jan 21  2011 article_00178.txt\n",
            "-rw-r--r-- 1 root root  64827 Jan 21  2011 article_00179.txt\n",
            "-rw-r--r-- 1 root root  23858 Jan 21  2011 article_00180.txt\n",
            "-rw-r--r-- 1 root root 129101 Jan 21  2011 article_00181.txt\n",
            "-rw-r--r-- 1 root root  68254 Jan 21  2011 article_00183.txt\n",
            "-rw-r--r-- 1 root root  99802 Jan 21  2011 article_00184.txt\n",
            "-rw-r--r-- 1 root root  31649 Jan 21  2011 article_00185.txt\n",
            "-rw-r--r-- 1 root root  18215 Jan 21  2011 article_00186.txt\n",
            "-rw-r--r-- 1 root root  35934 Jan 21  2011 article_00187.txt\n",
            "-rw-r--r-- 1 root root 107279 Jan 21  2011 article_00188.txt\n",
            "-rw-r--r-- 1 root root  55943 Jan 21  2011 article_00189.txt\n",
            "-rw-r--r-- 1 root root  42946 Jan 21  2011 article_00190.txt\n",
            "-rw-r--r-- 1 root root 184516 Jan 21  2011 article_00191.txt\n",
            "-rw-r--r-- 1 root root  53842 Jan 21  2011 article_00192.txt\n",
            "-rw-r--r-- 1 root root 108551 Jan 21  2011 article_00193.txt\n",
            "-rw-r--r-- 1 root root  51925 Jan 21  2011 article_00194.txt\n",
            "-rw-r--r-- 1 root root 178139 Jan 21  2011 article_00195.txt\n",
            "-rw-r--r-- 1 root root 157054 Jan 21  2011 article_00196.txt\n",
            "-rw-r--r-- 1 root root  49088 Jan 21  2011 article_00197.txt\n",
            "-rw-r--r-- 1 root root  50228 Jan 21  2011 article_00198.txt\n"
          ],
          "name": "stdout"
        }
      ]
    },
    {
      "cell_type": "code",
      "metadata": {
        "id": "zGYgE3Yutuva",
        "colab_type": "code",
        "colab": {}
      },
      "source": [
        ""
      ],
      "execution_count": null,
      "outputs": []
    }
  ]
}