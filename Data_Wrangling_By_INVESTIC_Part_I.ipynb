{
  "nbformat": 4,
  "nbformat_minor": 0,
  "metadata": {
    "colab": {
      "name": "Data Wrangling By INVESTIC Part I",
      "provenance": [],
      "collapsed_sections": [
        "WOTlkwPLcpph",
        "i31I80R3emhq",
        "gaHbod8oevpO",
        "AmBobaO9e2qw",
        "snmD3tsxfETt",
        "trYdbp6TfpuR",
        "p9XLNUrXgCzs",
        "STAdbyipgmT6",
        "S0ZRTHlTgttp"
      ],
      "include_colab_link": true
    },
    "kernelspec": {
      "name": "python3",
      "display_name": "Python 3"
    }
  },
  "cells": [
    {
      "cell_type": "markdown",
      "metadata": {
        "id": "view-in-github",
        "colab_type": "text"
      },
      "source": [
        "<a href=\"https://colab.research.google.com/github/Wisawasi/100-Days-Of-ML-Code/blob/master/Data_Wrangling_By_INVESTIC_Part_I.ipynb\" target=\"_parent\"><img src=\"https://colab.research.google.com/assets/colab-badge.svg\" alt=\"Open In Colab\"/></a>"
      ]
    },
    {
      "cell_type": "markdown",
      "metadata": {
        "id": "dKyTbKJaciAw"
      },
      "source": [
        "# Syntax"
      ]
    },
    {
      "cell_type": "markdown",
      "metadata": {
        "id": "WOTlkwPLcpph"
      },
      "source": [
        "## Creating DataFrames"
      ]
    },
    {
      "cell_type": "markdown",
      "metadata": {
        "id": "i31I80R3emhq"
      },
      "source": [
        "### Specify values for each column"
      ]
    },
    {
      "cell_type": "code",
      "metadata": {
        "id": "6Ag5xy0kcZUl"
      },
      "source": [
        "df = pd.DataFrame(\n",
        "    {\"a\" : [4, 5, 6],\n",
        "     \"b\" : [7, 8 ,9],\n",
        "     \"c\" : [10, 11, 12]},\n",
        "index = [1, 2, 3])"
      ],
      "execution_count": null,
      "outputs": []
    },
    {
      "cell_type": "markdown",
      "metadata": {
        "id": "aVF-f433msjQ"
      },
      "source": [
        "สร้าง DataFrame เป็นตารางของตัวเลขออกมาก่อน จะแบ่งเป็นแถวและหลัก ซึ่งในชุดนี้จะมี \n",
        "column เป็น a,b,c\n",
        "rows เป็น 1,2,3"
      ]
    },
    {
      "cell_type": "markdown",
      "metadata": {
        "id": "gaHbod8oevpO"
      },
      "source": [
        "### Specify values for each row"
      ]
    },
    {
      "cell_type": "code",
      "metadata": {
        "id": "ZeSAYIF1eGj8"
      },
      "source": [
        "df = pd.DataFrame(\n",
        "    [[4, 7, 10],\n",
        "     [5, 8, 11],\n",
        "     [6, 9, 12]],\n",
        "    index = [1, 2, 3],\n",
        "    columns = ['a', 'b', 'c']\n",
        ")"
      ],
      "execution_count": null,
      "outputs": []
    },
    {
      "cell_type": "markdown",
      "metadata": {
        "id": "6_ckF9y_nkYP"
      },
      "source": [
        "ชุดนี้จะได้ output เหมือนกับ DataFrame ชุดแรก แต่แค่มีการกำหนดตัว Column ด้านล่างแทน"
      ]
    },
    {
      "cell_type": "markdown",
      "metadata": {
        "id": "AmBobaO9e2qw"
      },
      "source": [
        "### Create DataFame with a MultiIndex"
      ]
    },
    {
      "cell_type": "code",
      "metadata": {
        "id": "RIMj5FzRdHza"
      },
      "source": [
        "df = pd.DataFrame(\n",
        "    { \"a\" : [4, 5, 6],\n",
        "      \"b\" : [7, 8, 9],\n",
        "      \"c\" : [10, 11, 12]},\n",
        "\n",
        "index = pd.MultiIndex.from_tuples(\n",
        "    [('d',1),('d',2),('e',2)],\n",
        "      names=['n','v'])\n",
        ")"
      ],
      "execution_count": null,
      "outputs": []
    },
    {
      "cell_type": "markdown",
      "metadata": {
        "id": "5cggUNgJoWK0"
      },
      "source": [
        "ในส่วนนี้จะมีการสร้าง DataFrame แบบ หลายๆ Index"
      ]
    },
    {
      "cell_type": "markdown",
      "metadata": {
        "id": "snmD3tsxfETt"
      },
      "source": [
        "# Method Chaining"
      ]
    },
    {
      "cell_type": "code",
      "metadata": {
        "id": "N8rPbBXTfKrg"
      },
      "source": [
        "df = (pd.melt(df)\n",
        "      .rename(columns = {\n",
        "              'variable' : 'var',\n",
        "              'value' : 'val'})\n",
        "      .query('val >= 200')\n",
        "      )"
      ],
      "execution_count": null,
      "outputs": []
    },
    {
      "cell_type": "markdown",
      "metadata": {
        "id": "DzGDVNFppKs4"
      },
      "source": [
        "Method ของ pandas ส่วนมากจะส่งข้อมูล Output ออกมาเป็น DataFrame "
      ]
    },
    {
      "cell_type": "markdown",
      "metadata": {
        "id": "trYdbp6TfpuR"
      },
      "source": [
        "# Reshaping Data\n"
      ]
    },
    {
      "cell_type": "markdown",
      "metadata": {
        "id": "ywM4EKQoDbZP"
      },
      "source": [
        "ข้ามไปทำ Gather columns in to row ก่อนนะ"
      ]
    },
    {
      "cell_type": "markdown",
      "metadata": {
        "id": "eR3-SzTgfuhB"
      },
      "source": [
        "## Change the layout of a data set"
      ]
    },
    {
      "cell_type": "code",
      "metadata": {
        "id": "sLjdn5JO4UZq"
      },
      "source": [
        "df = df.sort_values('mpg') #Order rows by values of a column(low to high)"
      ],
      "execution_count": null,
      "outputs": []
    },
    {
      "cell_type": "code",
      "metadata": {
        "id": "YYL4G8SM4ZrO"
      },
      "source": [
        "df = df.sort_values('mpg',ascending=False) #Order rows by values of a column(high to low)"
      ],
      "execution_count": null,
      "outputs": []
    },
    {
      "cell_type": "code",
      "metadata": {
        "id": "vn785ejv4gpu"
      },
      "source": [
        "df = df.rename(columns = {'y':'year'}) #Rename the columns of DataFrame"
      ],
      "execution_count": null,
      "outputs": []
    },
    {
      "cell_type": "code",
      "metadata": {
        "id": "rrzGKUjo4ofm"
      },
      "source": [
        "df = df.sort_index() #Sort the index of a DataFrame"
      ],
      "execution_count": null,
      "outputs": []
    },
    {
      "cell_type": "code",
      "metadata": {
        "id": "RfytEmZM4rZv"
      },
      "source": [
        "df = df.reset_index() #Reset index of DataFrame to row numbers, moving index to columns"
      ],
      "execution_count": null,
      "outputs": []
    },
    {
      "cell_type": "code",
      "metadata": {
        "id": "7aDjr2OO4uB8"
      },
      "source": [
        "df = df.drop(['Length','Height'], axis=1) #Drop columns from DataFrame"
      ],
      "execution_count": null,
      "outputs": []
    },
    {
      "cell_type": "markdown",
      "metadata": {
        "id": "X1-UzLtJf3n9"
      },
      "source": [
        "### Gather columns in to rows"
      ]
    },
    {
      "cell_type": "code",
      "metadata": {
        "id": "kaIdt7mtfuAM"
      },
      "source": [
        "pd.melt(df)"
      ],
      "execution_count": null,
      "outputs": []
    },
    {
      "cell_type": "markdown",
      "metadata": {
        "id": "p9XLNUrXgCzs"
      },
      "source": [
        "### Spread rows into columns"
      ]
    },
    {
      "cell_type": "code",
      "metadata": {
        "id": "-gSt_tR8f8sn"
      },
      "source": [
        "df.pivot(columns='var', values='val')"
      ],
      "execution_count": null,
      "outputs": []
    },
    {
      "cell_type": "markdown",
      "metadata": {
        "id": "JzFRSWX_gKHY"
      },
      "source": [
        "### Append rows of DataFrames"
      ]
    },
    {
      "cell_type": "code",
      "metadata": {
        "id": "7unpzRYOgQS-"
      },
      "source": [
        "pd.concat([df1, df2])"
      ],
      "execution_count": null,
      "outputs": []
    },
    {
      "cell_type": "markdown",
      "metadata": {
        "id": "VA280v4fgUBt"
      },
      "source": [
        "### Append columns of DataFrames"
      ]
    },
    {
      "cell_type": "code",
      "metadata": {
        "id": "wzD7cuOwgX_E"
      },
      "source": [
        "pd.concat([df1,df2], axis=1)"
      ],
      "execution_count": null,
      "outputs": []
    },
    {
      "cell_type": "markdown",
      "metadata": {
        "id": "STAdbyipgmT6"
      },
      "source": [
        "# Subset Observations (Rows)"
      ]
    },
    {
      "cell_type": "code",
      "metadata": {
        "id": "FQTfnuXWg0rB"
      },
      "source": [
        "df[df.length > 7] #Extarct rows that meet logical criteria"
      ],
      "execution_count": null,
      "outputs": []
    },
    {
      "cell_type": "code",
      "metadata": {
        "id": "T-CSyrIug7cQ"
      },
      "source": [
        "df.drop_dlupicates() #Remove duplicate rows (only considers columns)"
      ],
      "execution_count": null,
      "outputs": []
    },
    {
      "cell_type": "code",
      "metadata": {
        "id": "FU7cYLlUg76o"
      },
      "source": [
        "df.head(n) #Select first n rows"
      ],
      "execution_count": null,
      "outputs": []
    },
    {
      "cell_type": "code",
      "metadata": {
        "id": "gh6FxOuwhAFf"
      },
      "source": [
        "df.tail(n) #Select last n rows"
      ],
      "execution_count": null,
      "outputs": []
    },
    {
      "cell_type": "code",
      "metadata": {
        "id": "JNShBxwuhCQf"
      },
      "source": [
        "df.sample(frac=0.5) #Randomly select fraction of rows"
      ],
      "execution_count": null,
      "outputs": []
    },
    {
      "cell_type": "code",
      "metadata": {
        "id": "-SbAMF0KhFDE"
      },
      "source": [
        "df.sample(n=10) #Randomly select n rows"
      ],
      "execution_count": null,
      "outputs": []
    },
    {
      "cell_type": "code",
      "metadata": {
        "id": "5GVha24dhJZ7"
      },
      "source": [
        "df.iloc[10:20] #Select rows by position"
      ],
      "execution_count": null,
      "outputs": []
    },
    {
      "cell_type": "code",
      "metadata": {
        "id": "q8j06e6whOjU"
      },
      "source": [
        "df.nlargest(n, 'value') #Select and order top n entries"
      ],
      "execution_count": null,
      "outputs": []
    },
    {
      "cell_type": "code",
      "metadata": {
        "id": "ImRYZ8p2hTuN"
      },
      "source": [
        "df.nsmallest(n, 'value') #Select and order bottom n entries"
      ],
      "execution_count": null,
      "outputs": []
    },
    {
      "cell_type": "markdown",
      "metadata": {
        "id": "S0ZRTHlTgttp"
      },
      "source": [
        "# Subset Variables (Columns)"
      ]
    },
    {
      "cell_type": "code",
      "metadata": {
        "id": "AyG3756HhdxL"
      },
      "source": [
        "df[['width','length','species']] #Select multiple columns with specific names"
      ],
      "execution_count": null,
      "outputs": []
    },
    {
      "cell_type": "code",
      "metadata": {
        "id": "Ik4buooahj6j"
      },
      "source": [
        "df['width'] #Select single column with specific name"
      ],
      "execution_count": null,
      "outputs": []
    },
    {
      "cell_type": "code",
      "metadata": {
        "id": "PA1dVk-chmya"
      },
      "source": [
        "df.filter(regex='regex') #Select columns ahose name matches regular expression regex"
      ],
      "execution_count": null,
      "outputs": []
    },
    {
      "cell_type": "code",
      "metadata": {
        "id": "-KvTSr6EhsJL"
      },
      "source": [
        "df.loc[:,'x2':'x4'] #Select all columns between x2 and x4 (inclusive)"
      ],
      "execution_count": null,
      "outputs": []
    },
    {
      "cell_type": "code",
      "metadata": {
        "id": "-dtLTUR_hvwj"
      },
      "source": [
        "df.iloc[:,[1,2,5]] #Select columns in positions 1,2 and 5 (first column us 0)"
      ],
      "execution_count": null,
      "outputs": []
    },
    {
      "cell_type": "code",
      "metadata": {
        "id": "Ah2WS7jShzZi"
      },
      "source": [
        "df.loc[df['a'] > 10, ['a','c']] #Select rows meeting logical condition, and only the specific columns"
      ],
      "execution_count": null,
      "outputs": []
    }
  ]
}