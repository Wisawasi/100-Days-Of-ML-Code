{
  "nbformat": 4,
  "nbformat_minor": 0,
  "metadata": {
    "colab": {
      "name": "Basic Statistics by INVESTIC",
      "provenance": [],
      "collapsed_sections": [],
      "include_colab_link": true
    },
    "kernelspec": {
      "name": "python3",
      "display_name": "Python 3"
    }
  },
  "cells": [
    {
      "cell_type": "markdown",
      "metadata": {
        "id": "view-in-github",
        "colab_type": "text"
      },
      "source": [
        "<a href=\"https://colab.research.google.com/github/Wisawasi/100-Days-Of-ML-Code/blob/master/Basic_Statistics_by_INVESTIC.ipynb\" target=\"_parent\"><img src=\"https://colab.research.google.com/assets/colab-badge.svg\" alt=\"Open In Colab\"/></a>"
      ]
    },
    {
      "cell_type": "markdown",
      "metadata": {
        "id": "CKBxFYyMfZwW"
      },
      "source": [
        "# Basic Statistics in Python"
      ]
    },
    {
      "cell_type": "markdown",
      "metadata": {
        "id": "DfmxEv5Bfh-K"
      },
      "source": [
        "## import library"
      ]
    },
    {
      "cell_type": "code",
      "metadata": {
        "id": "gX7tdVH1CG7G"
      },
      "source": [
        "import math\n",
        "import statistics\n",
        "import numpy as np\n",
        "import pandas as pd\n",
        "import scipy.stats"
      ],
      "execution_count": null,
      "outputs": []
    },
    {
      "cell_type": "code",
      "metadata": {
        "id": "aYTDM-jJCr41"
      },
      "source": [
        "x = [8.0, 1, 2.5, 4, 28.0]\n",
        "x"
      ],
      "execution_count": null,
      "outputs": []
    },
    {
      "cell_type": "code",
      "metadata": {
        "id": "WnULgbUTCu0J"
      },
      "source": [
        "y = np.array(x)\n",
        "y"
      ],
      "execution_count": null,
      "outputs": []
    },
    {
      "cell_type": "code",
      "metadata": {
        "id": "KMZ6UuVxC1lc"
      },
      "source": [
        "z = pd.Series(x)\n",
        "z"
      ],
      "execution_count": null,
      "outputs": []
    },
    {
      "cell_type": "markdown",
      "metadata": {
        "id": "ILZCoBu3gJIy"
      },
      "source": [
        "## Measures of Central Tendency"
      ]
    },
    {
      "cell_type": "markdown",
      "metadata": {
        "id": "XQyA_mdhgcL-"
      },
      "source": [
        "### Mean"
      ]
    },
    {
      "cell_type": "code",
      "metadata": {
        "id": "yFgGD7cpC2in"
      },
      "source": [
        "mean = sum(x) / len(x)\n",
        "mean"
      ],
      "execution_count": null,
      "outputs": []
    },
    {
      "cell_type": "code",
      "metadata": {
        "id": "pHCgeTZXC5iY"
      },
      "source": [
        "mean_ = statistics.mean(x)\n",
        "mean_"
      ],
      "execution_count": null,
      "outputs": []
    },
    {
      "cell_type": "markdown",
      "metadata": {
        "id": "H3Q8nZ6igfzT"
      },
      "source": [
        "### Weight Mean"
      ]
    },
    {
      "cell_type": "code",
      "metadata": {
        "id": "hcBavze3C7B_"
      },
      "source": [
        "x = [8.0, 1, 2.5, 4, 28.0]\n",
        "w = [0.1, 0.2, 0.3, 0.25, 0.15]"
      ],
      "execution_count": null,
      "outputs": []
    },
    {
      "cell_type": "code",
      "metadata": {
        "id": "SkixW7e1C8ZW"
      },
      "source": [
        "# Simple WMean\n",
        "8.0 * 0.1 + 1 * 0.2 + 2.5 * 0.3 + 4 * 0.25 + 28.0 * 0.15"
      ],
      "execution_count": null,
      "outputs": []
    },
    {
      "cell_type": "code",
      "metadata": {
        "id": "p_Y5SxG6C9nT"
      },
      "source": [
        "wmean = sum(w[i] * x[i] for i in range(len(x))) / sum(w)\n",
        "wmean"
      ],
      "execution_count": null,
      "outputs": []
    },
    {
      "cell_type": "code",
      "metadata": {
        "id": "NcK4za2IC_n1"
      },
      "source": [
        "# or\n",
        "y, z, w = np.array(x), pd.Series(x), np.array(w)\n",
        "wmean = np.average(y, weights=w)\n",
        "wmean"
      ],
      "execution_count": null,
      "outputs": []
    },
    {
      "cell_type": "code",
      "metadata": {
        "id": "u1AsN9P8DA4K"
      },
      "source": [
        "(w * y).sum() / w.sum()"
      ],
      "execution_count": null,
      "outputs": []
    },
    {
      "cell_type": "markdown",
      "metadata": {
        "id": "WxX2wdYdgph2"
      },
      "source": [
        "### Median"
      ]
    },
    {
      "cell_type": "code",
      "metadata": {
        "id": "marDSggfDFDH"
      },
      "source": [
        "# Simple Med\n",
        "n = len(x)\n",
        "if n % 2:\n",
        "    median = sorted(x)[round(0.5*(n-1))]\n",
        "else:\n",
        "    x_ord, index = sorted(x), round(0.5 * n)\n",
        "    median = 0.5 * (x_ord[index-1] + x_ord[index])\n",
        "    \n",
        "median"
      ],
      "execution_count": null,
      "outputs": []
    },
    {
      "cell_type": "code",
      "metadata": {
        "id": "cfGQxc7FDGhT"
      },
      "source": [
        "median_ = statistics.median(x)\n",
        "median_"
      ],
      "execution_count": null,
      "outputs": []
    },
    {
      "cell_type": "code",
      "metadata": {
        "id": "i3R7LWhWDHqZ"
      },
      "source": [
        "# or สามารถกำหนด range ของค่าได้ว่าจะเอาถึงตรงไหน\n",
        "median__ = statistics.median(x[:-1])\n",
        "median__"
      ],
      "execution_count": null,
      "outputs": []
    },
    {
      "cell_type": "markdown",
      "metadata": {
        "id": "wYQDd2lsgudj"
      },
      "source": [
        "### Mode"
      ]
    },
    {
      "cell_type": "code",
      "metadata": {
        "id": "06dIiUFPDI6P"
      },
      "source": [
        "# Mode\n",
        "u = [2, 3, 2, 8, 12]\n",
        "mode = max((u.count(item), item) for item in set(u))[1]\n",
        "mode"
      ],
      "execution_count": null,
      "outputs": []
    },
    {
      "cell_type": "code",
      "metadata": {
        "id": "gUkz6wK9DJ6b"
      },
      "source": [
        "mode_ = statistics.mode(u)\n",
        "mode_"
      ],
      "execution_count": null,
      "outputs": []
    },
    {
      "cell_type": "code",
      "metadata": {
        "id": "TKNzm8tMDK9j"
      },
      "source": [
        "# ถ้ามีซ้ำกันหลายตัวจะทำยังไง\n",
        "v = [12, 15, 12, 15, 21, 15, 12]\n",
        "statistics.mode(v) # Error เพราะมันมี Mode หลายตัว"
      ],
      "execution_count": null,
      "outputs": []
    },
    {
      "cell_type": "code",
      "metadata": {
        "id": "RdQa5dd_DNbt"
      },
      "source": [
        "statistics.multimode(v) #แนะนำใช้ Python 3.8 ขึ้นนะครับ ไม่งั้นจะ Error"
      ],
      "execution_count": null,
      "outputs": []
    },
    {
      "cell_type": "markdown",
      "metadata": {
        "id": "qOf3_E2kgyq-"
      },
      "source": [
        "## Measures of Variability"
      ]
    },
    {
      "cell_type": "markdown",
      "metadata": {
        "id": "Y9jHfjBNg76m"
      },
      "source": [
        "### Variance"
      ]
    },
    {
      "cell_type": "code",
      "metadata": {
        "id": "SisTFAecDVpi"
      },
      "source": [
        "n = len(x)\n",
        "mean = sum(x) / n\n",
        "var = sum((item - mean)**2 for item in x) / (n-1)\n",
        "var"
      ],
      "execution_count": null,
      "outputs": []
    },
    {
      "cell_type": "code",
      "metadata": {
        "id": "j5d-xHVEDYQl"
      },
      "source": [
        "# or\n",
        "var_ = statistics.variance(x)\n",
        "var_"
      ],
      "execution_count": null,
      "outputs": []
    },
    {
      "cell_type": "code",
      "metadata": {
        "id": "MCluTIT5DZo7"
      },
      "source": [
        "# or\n",
        "var__ = np.var(y, ddof=1) # ddof = delta degrees of freedom\n",
        "var__"
      ],
      "execution_count": null,
      "outputs": []
    },
    {
      "cell_type": "markdown",
      "metadata": {
        "id": "fJC0rSc7hAhm"
      },
      "source": [
        "### Standard Deviation"
      ]
    },
    {
      "cell_type": "code",
      "metadata": {
        "id": "nezmSYhEDaix"
      },
      "source": [
        "std = var ** 0.5\n",
        "std"
      ],
      "execution_count": null,
      "outputs": []
    },
    {
      "cell_type": "code",
      "metadata": {
        "id": "PpT3QJyVDbpq"
      },
      "source": [
        "std_ = statistics.stdev(x)\n",
        "std_"
      ],
      "execution_count": null,
      "outputs": []
    },
    {
      "cell_type": "code",
      "metadata": {
        "id": "46vQMBkuDciu"
      },
      "source": [
        "np.std(y, ddof=1)"
      ],
      "execution_count": null,
      "outputs": []
    },
    {
      "cell_type": "markdown",
      "metadata": {
        "id": "LY-p2ozXhGPM"
      },
      "source": [
        "### Skewness"
      ]
    },
    {
      "cell_type": "code",
      "metadata": {
        "id": "VcZryPmnDdr0"
      },
      "source": [
        "x = [8.0, 1, 2.5, 4, 28.0]\n",
        "n = len(x)\n",
        "mean = sum(x) / n\n",
        "var = sum((item - mean)**2 for item in x) / (n - 1)\n",
        "std = var ** 0.5\n",
        "skew = (sum((item - mean)**3 for item in x)\n",
        "          * n / ((n - 1) * (n - 2) * std**3))\n",
        "skew"
      ],
      "execution_count": null,
      "outputs": []
    },
    {
      "cell_type": "code",
      "metadata": {
        "id": "L4BEbFGQDekF"
      },
      "source": [
        "y = np.array(x)\n",
        "y"
      ],
      "execution_count": null,
      "outputs": []
    },
    {
      "cell_type": "code",
      "metadata": {
        "id": "WiHTQqLhDfu-"
      },
      "source": [
        "scipy.stats.skew(y, bias=False)"
      ],
      "execution_count": null,
      "outputs": []
    },
    {
      "cell_type": "markdown",
      "metadata": {
        "id": "NmB5wcu-hLu3"
      },
      "source": [
        "### Quantile\n"
      ]
    },
    {
      "cell_type": "code",
      "metadata": {
        "id": "FmzQg3GaDibz"
      },
      "source": [
        "x = [-5.0, -1.1, 0.1, 2.0, 8.0, 12.8, 21.0, 25.8, 41.0]\n",
        "statistics.quantiles(x, n=2)  \n",
        "# Requirement เป็น Python 3.8 ขึ้นนะครับ ไม่งั้น Run แล้วมันจะขึ้นว่า module 'statistics' has no attribute 'quantiles'"
      ],
      "execution_count": null,
      "outputs": []
    },
    {
      "cell_type": "code",
      "metadata": {
        "id": "_q3zYd_TDjni"
      },
      "source": [
        "statistics.quantiles(x, n=4, method='inclusive')\n",
        "# Requirement เป็น Python 3.8 ขึ้นนะครับ ไม่งั้น Run แล้วมันจะขึ้นว่า module 'statistics' has no attribute 'quantiles'"
      ],
      "execution_count": null,
      "outputs": []
    },
    {
      "cell_type": "markdown",
      "metadata": {
        "id": "llGbi3T_hQyf"
      },
      "source": [
        "### Percentile"
      ]
    },
    {
      "cell_type": "code",
      "metadata": {
        "id": "R5kS8YWoDoIy"
      },
      "source": [
        "np.percentile(y, 5)"
      ],
      "execution_count": null,
      "outputs": []
    },
    {
      "cell_type": "code",
      "metadata": {
        "id": "bK2q6jbWDnfN"
      },
      "source": [
        "np.quantile(y, 0.95)"
      ],
      "execution_count": null,
      "outputs": []
    },
    {
      "cell_type": "markdown",
      "metadata": {
        "id": "UCMWWclKhWyi"
      },
      "source": [
        "## Summary of descriptive statistics"
      ]
    },
    {
      "cell_type": "code",
      "metadata": {
        "id": "z4tDRe6tDqCg"
      },
      "source": [
        "result = scipy.stats.describe(y, ddof=1, bias=False)"
      ],
      "execution_count": null,
      "outputs": []
    },
    {
      "cell_type": "code",
      "metadata": {
        "id": "zc1Rk_ujDq-b"
      },
      "source": [
        "result"
      ],
      "execution_count": null,
      "outputs": []
    },
    {
      "cell_type": "code",
      "metadata": {
        "id": "X4NlVdPRDr3-"
      },
      "source": [
        "result_ = z.describe()\n",
        "result_"
      ],
      "execution_count": null,
      "outputs": []
    },
    {
      "cell_type": "markdown",
      "metadata": {
        "id": "_DNJKHrBhgWl"
      },
      "source": [
        "## Measure of Correlation Between Pairs of Data"
      ]
    },
    {
      "cell_type": "code",
      "metadata": {
        "id": "5YB792ouDtP7"
      },
      "source": [
        "x = list(range(-10, 11))\n",
        "y = [0, 2, 2, 2, 2, 3, 3, 6, 7, 4, 7, 6, 6, 9, 4, 5, 5, 10, 11, 12, 14]\n",
        "x_, y_ = np.array(x), np.array(y)\n",
        "x__, y__ = pd.Series(x_), pd.Series(y_)"
      ],
      "execution_count": null,
      "outputs": []
    },
    {
      "cell_type": "markdown",
      "metadata": {
        "id": "edoR86Cmh0OV"
      },
      "source": [
        "### Covariance"
      ]
    },
    {
      "cell_type": "code",
      "metadata": {
        "id": "WFhdfKbUDurA"
      },
      "source": [
        "n = len(x)\n",
        "mean_x, mean_y = sum(x) / n, sum(y) / n\n",
        "cov_xy = (sum((x[k] - mean_x) * (y[k] - mean_y) for k in range(n))/ (n-1))\n",
        "cov_xy"
      ],
      "execution_count": null,
      "outputs": []
    },
    {
      "cell_type": "code",
      "metadata": {
        "id": "kHhnwU7wDxdD"
      },
      "source": [
        "cov_matrix = np.cov(x_,y_)\n",
        "cov_matrix"
      ],
      "execution_count": null,
      "outputs": []
    },
    {
      "cell_type": "code",
      "metadata": {
        "id": "Xw7xI-kJDylJ"
      },
      "source": [
        "x_.var(ddof=1)"
      ],
      "execution_count": null,
      "outputs": []
    },
    {
      "cell_type": "code",
      "metadata": {
        "id": "2-IZT5r7DzaT"
      },
      "source": [
        "y_.var(ddof=1)"
      ],
      "execution_count": null,
      "outputs": []
    },
    {
      "cell_type": "code",
      "metadata": {
        "id": "AUWElaumD0TJ"
      },
      "source": [
        "cov_xy = cov_matrix[0,1]\n",
        "cov_xy"
      ],
      "execution_count": null,
      "outputs": []
    },
    {
      "cell_type": "code",
      "metadata": {
        "id": "gjXyMh3DD1NO"
      },
      "source": [
        "cov_xy = cov_matrix[1,0]\n",
        "cov_xy"
      ],
      "execution_count": null,
      "outputs": []
    },
    {
      "cell_type": "markdown",
      "metadata": {
        "id": "bY8Jr_D1h6xA"
      },
      "source": [
        "### Correlation Coefficient"
      ]
    },
    {
      "cell_type": "code",
      "metadata": {
        "id": "UeFIkKfkD2To"
      },
      "source": [
        "var_x = sum((item - mean_x)**2 for item in x) / (n-1)\n",
        "var_y = sum((item - mean_y)**2 for item in y) / (n-1)"
      ],
      "execution_count": null,
      "outputs": []
    },
    {
      "cell_type": "code",
      "metadata": {
        "id": "_lp1iFC-D3jx"
      },
      "source": [
        "std_x, std_y = var_x ** 0.5, var_y ** 0.5"
      ],
      "execution_count": null,
      "outputs": []
    },
    {
      "cell_type": "code",
      "metadata": {
        "id": "xQefPTcLD4l8"
      },
      "source": [
        "r = cov_xy /(std_x * std_y)\n",
        "r"
      ],
      "execution_count": null,
      "outputs": []
    },
    {
      "cell_type": "code",
      "metadata": {
        "id": "wPWadY8KD51E"
      },
      "source": [
        "r, p = scipy.stats.pearsonr(x_, y_)\n",
        "r"
      ],
      "execution_count": null,
      "outputs": []
    },
    {
      "cell_type": "code",
      "metadata": {
        "id": "5FrrR86fD7wc"
      },
      "source": [
        "p"
      ],
      "execution_count": null,
      "outputs": []
    },
    {
      "cell_type": "markdown",
      "metadata": {
        "id": "nC2spogRiitC"
      },
      "source": [
        "### Correlation coefficient matrix"
      ]
    },
    {
      "cell_type": "code",
      "metadata": {
        "id": "KCzVOop8D83e"
      },
      "source": [
        "corr_matrix = np.corrcoef(x_,y_)\n",
        "corr_matrix"
      ],
      "execution_count": null,
      "outputs": []
    },
    {
      "cell_type": "code",
      "metadata": {
        "id": "F4whvBNwD-LH"
      },
      "source": [
        "r = corr_matrix[0,1]\n",
        "r"
      ],
      "execution_count": null,
      "outputs": []
    },
    {
      "cell_type": "code",
      "metadata": {
        "id": "YdlmuGy8D_R7"
      },
      "source": [
        "scipy.stats.linregress(x_,y_)"
      ],
      "execution_count": null,
      "outputs": []
    },
    {
      "cell_type": "code",
      "metadata": {
        "id": "tyU3w7k6EAWA"
      },
      "source": [
        "result = scipy.stats.linregress(x_, y_)\n",
        "r = result.rvalue\n",
        "r"
      ],
      "execution_count": null,
      "outputs": []
    }
  ]
}