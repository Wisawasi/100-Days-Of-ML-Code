{
  "nbformat": 4,
  "nbformat_minor": 0,
  "metadata": {
    "colab": {
      "name": "Matplotlib By INVESTIC",
      "provenance": [],
      "collapsed_sections": [],
      "include_colab_link": true
    },
    "kernelspec": {
      "name": "python3",
      "display_name": "Python 3"
    }
  },
  "cells": [
    {
      "cell_type": "markdown",
      "metadata": {
        "id": "view-in-github",
        "colab_type": "text"
      },
      "source": [
        "<a href=\"https://colab.research.google.com/github/Wisawasi/100-Days-Of-ML-Code/blob/master/Matplotlib_By_INVESTIC.ipynb\" target=\"_parent\"><img src=\"https://colab.research.google.com/assets/colab-badge.svg\" alt=\"Open In Colab\"/></a>"
      ]
    },
    {
      "cell_type": "markdown",
      "metadata": {
        "id": "-d6HMTS4InDK"
      },
      "source": [
        "# Matplotlib"
      ]
    },
    {
      "cell_type": "code",
      "metadata": {
        "id": "8GhWzuY5f-da"
      },
      "source": [
        "#Concept and workflow"
      ],
      "execution_count": null,
      "outputs": []
    },
    {
      "cell_type": "code",
      "metadata": {
        "id": "-KUPnIJYgCXL"
      },
      "source": [
        "# 1. Prepare data"
      ],
      "execution_count": null,
      "outputs": []
    },
    {
      "cell_type": "code",
      "metadata": {
        "id": "xtqavcSGgGgY"
      },
      "source": [
        "# 2. Create plot"
      ],
      "execution_count": null,
      "outputs": []
    },
    {
      "cell_type": "code",
      "metadata": {
        "id": "P-3SLeeDgJuV"
      },
      "source": [
        "# 3. Plot"
      ],
      "execution_count": null,
      "outputs": []
    },
    {
      "cell_type": "code",
      "metadata": {
        "id": "LebBZtfngLyk"
      },
      "source": [
        "# 4. Customize plot"
      ],
      "execution_count": null,
      "outputs": []
    },
    {
      "cell_type": "code",
      "metadata": {
        "id": "2FSTEjGkgPaM"
      },
      "source": [
        "# 5. Save plot"
      ],
      "execution_count": null,
      "outputs": []
    },
    {
      "cell_type": "code",
      "metadata": {
        "id": "FTn8vV77gScN"
      },
      "source": [
        "# 6. Show plot"
      ],
      "execution_count": null,
      "outputs": []
    },
    {
      "cell_type": "code",
      "metadata": {
        "id": "Bm2WOgJNgYg2"
      },
      "source": [
        "# All Workflow Example Code\n",
        "import matplotlib.pyplot as plt\n",
        "x = [1,2,3,4]                                  #Step1\n",
        "y = [10,20,30,40]                              \n",
        "fig = plt.figure()                             #Step2\n",
        "ax = fig.add_subplot(111)                      #Step3\n",
        "ax.plot(x, y, color='lightblue', linewidth=3)  #Step3,4\n",
        "ax.scattrer([2,4,6],\n",
        "            [5,15,25],\n",
        "            color='darkgreen',\n",
        "            marker='^')\n",
        "ax.set_xlim(1, 6.5)\n",
        "plt.savefig('foo.png')                         #Step5\n",
        "plt.show()                                     #Step6    "
      ],
      "execution_count": null,
      "outputs": []
    },
    {
      "cell_type": "markdown",
      "metadata": {
        "id": "aodE44S1IuKZ"
      },
      "source": [
        "## Prepare The Data"
      ]
    },
    {
      "cell_type": "markdown",
      "metadata": {
        "id": "TGNH-MB0I3Fm"
      },
      "source": [
        "### 1D Data"
      ]
    },
    {
      "cell_type": "code",
      "metadata": {
        "id": "Rx_1YTAPHIUM"
      },
      "source": [
        "import numpy as np"
      ],
      "execution_count": null,
      "outputs": []
    },
    {
      "cell_type": "code",
      "metadata": {
        "id": "Qn1mzsHFI6Mh"
      },
      "source": [
        "x = np.linspace(0, 10, 100)"
      ],
      "execution_count": null,
      "outputs": []
    },
    {
      "cell_type": "code",
      "metadata": {
        "id": "amCg2UFmI-LG"
      },
      "source": [
        "y = np.cos(x)"
      ],
      "execution_count": null,
      "outputs": []
    },
    {
      "cell_type": "code",
      "metadata": {
        "id": "67M8sjymJASv"
      },
      "source": [
        "z = np.sin(x)"
      ],
      "execution_count": null,
      "outputs": []
    },
    {
      "cell_type": "markdown",
      "metadata": {
        "id": "iTX8KO-tJC5U"
      },
      "source": [
        "### 2D Data or Images"
      ]
    },
    {
      "cell_type": "code",
      "metadata": {
        "id": "MdiDn-OPJIg1"
      },
      "source": [
        "data = 2 * np.random.random((10,10))"
      ],
      "execution_count": null,
      "outputs": []
    },
    {
      "cell_type": "code",
      "metadata": {
        "id": "qDLs6TTCJN7I"
      },
      "source": [
        "data2 = 3 * np.random.random((10,10))"
      ],
      "execution_count": null,
      "outputs": []
    },
    {
      "cell_type": "code",
      "metadata": {
        "id": "SOeMOWTQJUjH"
      },
      "source": [
        "Y, X = np.mgrid(-3:3:100j, -3:3:100j)"
      ],
      "execution_count": null,
      "outputs": []
    },
    {
      "cell_type": "code",
      "metadata": {
        "id": "zDz1oXQfJa_f"
      },
      "source": [
        "U = -1 -x **2 + Y"
      ],
      "execution_count": null,
      "outputs": []
    },
    {
      "cell_type": "code",
      "metadata": {
        "id": "1Gk6_d6zJeTz"
      },
      "source": [
        "V = 1 + X - Y**2"
      ],
      "execution_count": null,
      "outputs": []
    },
    {
      "cell_type": "code",
      "metadata": {
        "id": "8lDA_7GJJiU2"
      },
      "source": [
        "from matplolib.cbook import get_sample_data"
      ],
      "execution_count": null,
      "outputs": []
    },
    {
      "cell_type": "code",
      "metadata": {
        "id": "CCaIGi52JomP"
      },
      "source": [
        "img = np.load(get_sample_data('axes_grid/bivariate_normal.npy'))"
      ],
      "execution_count": null,
      "outputs": []
    },
    {
      "cell_type": "markdown",
      "metadata": {
        "id": "dGK5bFhsJ2lN"
      },
      "source": [
        "## Create Plot"
      ]
    },
    {
      "cell_type": "code",
      "metadata": {
        "id": "1mFitXimJ6VN"
      },
      "source": [
        "import matplotlib.pyplot as plt"
      ],
      "execution_count": null,
      "outputs": []
    },
    {
      "cell_type": "markdown",
      "metadata": {
        "id": "fhwtREwWKOeR"
      },
      "source": [
        "### Figure"
      ]
    },
    {
      "cell_type": "code",
      "metadata": {
        "id": "yL1YPZ9ZKAA1"
      },
      "source": [
        "fig = plt.figure()"
      ],
      "execution_count": null,
      "outputs": []
    },
    {
      "cell_type": "code",
      "metadata": {
        "id": "Vd6oiYtUKC2J"
      },
      "source": [
        "fig2 = plt.figure(figsize=plt.figaspect(2.0))"
      ],
      "execution_count": null,
      "outputs": []
    },
    {
      "cell_type": "markdown",
      "metadata": {
        "id": "YYXUQYPWKS3J"
      },
      "source": [
        "### Axes"
      ]
    },
    {
      "cell_type": "code",
      "metadata": {
        "id": "YrOdV_w6KK1L"
      },
      "source": [
        "fig.add_axes()"
      ],
      "execution_count": null,
      "outputs": []
    },
    {
      "cell_type": "code",
      "metadata": {
        "id": "ATqSxvvbKYDp"
      },
      "source": [
        "ax1 = fig.add_subplot(221) # row-col-num"
      ],
      "execution_count": null,
      "outputs": []
    },
    {
      "cell_type": "code",
      "metadata": {
        "id": "--oS_zLCKfKh"
      },
      "source": [
        "ax3 = fig.add_subplot(212)"
      ],
      "execution_count": null,
      "outputs": []
    },
    {
      "cell_type": "code",
      "metadata": {
        "id": "km3KCgVJKij_"
      },
      "source": [
        "fig3, axes = plt.subplots(nrows = 2, ncols=2)"
      ],
      "execution_count": null,
      "outputs": []
    },
    {
      "cell_type": "code",
      "metadata": {
        "id": "Lh7T_MF3KqK4"
      },
      "source": [
        "fig4, axes2 = plt.subplots(ncols=3)"
      ],
      "execution_count": null,
      "outputs": []
    },
    {
      "cell_type": "markdown",
      "metadata": {
        "id": "_pG_s2tRK-T4"
      },
      "source": [
        "## Plotting Routines "
      ]
    },
    {
      "cell_type": "markdown",
      "metadata": {
        "id": "hXU6ODrdLC_S"
      },
      "source": [
        "### 1D Data"
      ]
    },
    {
      "cell_type": "code",
      "metadata": {
        "id": "yR9ZV0QULoLC"
      },
      "source": [
        "lines = ax.plot(x,y)"
      ],
      "execution_count": null,
      "outputs": []
    },
    {
      "cell_type": "code",
      "metadata": {
        "id": "nwl7k51NLoX8"
      },
      "source": [
        "ax.scatter(x,y)"
      ],
      "execution_count": null,
      "outputs": []
    },
    {
      "cell_type": "code",
      "metadata": {
        "id": "yqHqSWciLoq8"
      },
      "source": [
        "axes[0,0].bar([1,2,3],[3,4,5])"
      ],
      "execution_count": null,
      "outputs": []
    },
    {
      "cell_type": "code",
      "metadata": {
        "id": "06CvmfKCLo-Z"
      },
      "source": [
        "axes[1,0].barh([0.5,1,2.5],[0,1,2])"
      ],
      "execution_count": null,
      "outputs": []
    },
    {
      "cell_type": "code",
      "metadata": {
        "id": "XPmLn2exLo2l"
      },
      "source": [
        "axes[1,1].axhline(0.45)"
      ],
      "execution_count": null,
      "outputs": []
    },
    {
      "cell_type": "code",
      "metadata": {
        "id": "ffSxDeIMLojS"
      },
      "source": [
        "axes[1,1].axvline(0.65)"
      ],
      "execution_count": null,
      "outputs": []
    },
    {
      "cell_type": "code",
      "metadata": {
        "id": "hXH_zA5nLoQW"
      },
      "source": [
        "ax.fill(x,y,color='blue')"
      ],
      "execution_count": null,
      "outputs": []
    },
    {
      "cell_type": "code",
      "metadata": {
        "id": "mGPOBpuNLoED"
      },
      "source": [
        "ax.fill_between(x,y,color='yellow')"
      ],
      "execution_count": null,
      "outputs": []
    },
    {
      "cell_type": "markdown",
      "metadata": {
        "id": "WPsHrMPFLGeo"
      },
      "source": [
        "### 2D Data"
      ]
    },
    {
      "cell_type": "code",
      "metadata": {
        "id": "cyL9zbUjLmHG"
      },
      "source": [
        "fig, ax = plt.subplots()"
      ],
      "execution_count": null,
      "outputs": []
    },
    {
      "cell_type": "code",
      "metadata": {
        "id": "rC4rb59tLJT_"
      },
      "source": [
        "im = ax.imshow(img, cmap='gist_earth', interpolation='nearest', vmin=-2, vmax=2)"
      ],
      "execution_count": null,
      "outputs": []
    },
    {
      "cell_type": "code",
      "metadata": {
        "id": "iZEz4-o3N2E8"
      },
      "source": [
        "axes2[0].pcolor(data2)"
      ],
      "execution_count": null,
      "outputs": []
    },
    {
      "cell_type": "code",
      "metadata": {
        "id": "V4lZxSWTN9vX"
      },
      "source": [
        "axes2[0].pcolormesh(data)"
      ],
      "execution_count": null,
      "outputs": []
    },
    {
      "cell_type": "code",
      "metadata": {
        "id": "0MQDP4ekN2a_"
      },
      "source": [
        "CS = plt.contour(Y,X,U)"
      ],
      "execution_count": null,
      "outputs": []
    },
    {
      "cell_type": "code",
      "metadata": {
        "id": "oUH64azKN2oB"
      },
      "source": [
        "axes2[2].contourf(data1)"
      ],
      "execution_count": null,
      "outputs": []
    },
    {
      "cell_type": "code",
      "metadata": {
        "id": "TqGJ9cFMN2Su"
      },
      "source": [
        "axes2[2] = ax.clabel(CS)"
      ],
      "execution_count": null,
      "outputs": []
    },
    {
      "cell_type": "markdown",
      "metadata": {
        "id": "PivJ1zeBNTvg"
      },
      "source": [
        "### Vector Fields"
      ]
    },
    {
      "cell_type": "code",
      "metadata": {
        "id": "5cRfmYp0NvKT"
      },
      "source": [
        "axes[0,1].arrow(0,0,0.5,0.5)"
      ],
      "execution_count": null,
      "outputs": []
    },
    {
      "cell_type": "code",
      "metadata": {
        "id": "dupbcoffNve2"
      },
      "source": [
        "axes[1,1].quiver(y,z)"
      ],
      "execution_count": null,
      "outputs": []
    },
    {
      "cell_type": "code",
      "metadata": {
        "id": "DCTKB4cwNvB-"
      },
      "source": [
        "axes[0,1].streamplot(X,Y,U,V)"
      ],
      "execution_count": null,
      "outputs": []
    },
    {
      "cell_type": "markdown",
      "metadata": {
        "id": "2qFZSQChNXuA"
      },
      "source": [
        "### Data Distributions"
      ]
    },
    {
      "cell_type": "code",
      "metadata": {
        "id": "oaaY9uI3Nwcr"
      },
      "source": [
        "ax1.hist(y)"
      ],
      "execution_count": null,
      "outputs": []
    },
    {
      "cell_type": "code",
      "metadata": {
        "id": "CHMKZc8nNwxH"
      },
      "source": [
        "ax3.boxplot(y)"
      ],
      "execution_count": null,
      "outputs": []
    },
    {
      "cell_type": "code",
      "metadata": {
        "id": "EPBLSXSbNwTl"
      },
      "source": [
        "ax3.violinplot(z)"
      ],
      "execution_count": null,
      "outputs": []
    },
    {
      "cell_type": "markdown",
      "metadata": {
        "id": "-Fu4iD7ZLN0b"
      },
      "source": [
        "## Customize Plot"
      ]
    },
    {
      "cell_type": "markdown",
      "metadata": {
        "id": "samQAMaLLS0I"
      },
      "source": [
        "### Colors, Color Bars & Color Maps"
      ]
    },
    {
      "cell_type": "code",
      "metadata": {
        "id": "y8sltfHOLh85"
      },
      "source": [
        "plt.plot(x, x, x, x**2, x, x**3)"
      ],
      "execution_count": null,
      "outputs": []
    },
    {
      "cell_type": "code",
      "metadata": {
        "id": "A1CGOQM6LiT4"
      },
      "source": [
        "ax.plot(x, y, alpha = 0.4)"
      ],
      "execution_count": null,
      "outputs": []
    },
    {
      "cell_type": "code",
      "metadata": {
        "id": "yXUrdHMQLimD"
      },
      "source": [
        "ax.plot(x, y, c='k')"
      ],
      "execution_count": null,
      "outputs": []
    },
    {
      "cell_type": "code",
      "metadata": {
        "id": "weFAbGarLiLq"
      },
      "source": [
        "fig.colorbar(im, orientation='horizontal')"
      ],
      "execution_count": null,
      "outputs": []
    },
    {
      "cell_type": "code",
      "metadata": {
        "id": "JOeLfGB2Lh3j"
      },
      "source": [
        "im = ax.imshow(\n",
        "               img,\n",
        "               cmap='seismic'\n",
        "               )"
      ],
      "execution_count": null,
      "outputs": []
    },
    {
      "cell_type": "markdown",
      "metadata": {
        "id": "XUckwpk-P4os"
      },
      "source": [
        "### Markets"
      ]
    },
    {
      "cell_type": "code",
      "metadata": {
        "id": "Zyvx-tIvP_IZ"
      },
      "source": [
        "fig, ax = plt.subplots()"
      ],
      "execution_count": null,
      "outputs": []
    },
    {
      "cell_type": "code",
      "metadata": {
        "id": "NsTTVGkAP_ii"
      },
      "source": [
        "ax.scatter(x, y, market=\".\")"
      ],
      "execution_count": null,
      "outputs": []
    },
    {
      "cell_type": "code",
      "metadata": {
        "id": "ofh8fkD3P_at"
      },
      "source": [
        "ax.plot(x, y, market=\"o\")"
      ],
      "execution_count": null,
      "outputs": []
    },
    {
      "cell_type": "markdown",
      "metadata": {
        "id": "4txsq5yzP_0X"
      },
      "source": [
        "### Linestyle"
      ]
    },
    {
      "cell_type": "code",
      "metadata": {
        "id": "vIbsvndjQHi3"
      },
      "source": [
        "plt.plot(x,y,linewidth=4.0)"
      ],
      "execution_count": null,
      "outputs": []
    },
    {
      "cell_type": "code",
      "metadata": {
        "id": "oqZoXudCYpr5"
      },
      "source": [
        "plt.plot(x,y,ls='solid')"
      ],
      "execution_count": null,
      "outputs": []
    },
    {
      "cell_type": "code",
      "metadata": {
        "id": "XWKRm4ACQHq7"
      },
      "source": [
        "plt.plot(x,y,ls='--')"
      ],
      "execution_count": null,
      "outputs": []
    },
    {
      "cell_type": "code",
      "metadata": {
        "id": "NIaL-5q-QIIo"
      },
      "source": [
        "plt.plot(x,y,'--',x**2, y**2, '-.')"
      ],
      "execution_count": null,
      "outputs": []
    },
    {
      "cell_type": "code",
      "metadata": {
        "id": "UeERmAbUQILP"
      },
      "source": [
        "plt.setup(lines,color='r',linewidth=4.0)"
      ],
      "execution_count": null,
      "outputs": []
    },
    {
      "cell_type": "markdown",
      "metadata": {
        "id": "r5nX6CDfQJHS"
      },
      "source": [
        "### Text & Annotations"
      ]
    },
    {
      "cell_type": "code",
      "metadata": {
        "id": "Djvtk2HOQPEC"
      },
      "source": [
        "ax.text(1,\n",
        "       -2.1,\n",
        "        'Example Graph',\n",
        "        style='italic'\n",
        "        )"
      ],
      "execution_count": null,
      "outputs": []
    },
    {
      "cell_type": "code",
      "metadata": {
        "id": "KC7SivZ8QPib"
      },
      "source": [
        "ax.annotate(\"sine\",\n",
        "            xy=(8,0),\n",
        "            xycoords='data',\n",
        "            xytext=(10.5, 0),\n",
        "            textcoords='data',\n",
        "            arrowprops=dict(arrowstyle=\"->\",\n",
        "                            connectionstyle=\"arc3\"),)"
      ],
      "execution_count": null,
      "outputs": []
    },
    {
      "cell_type": "markdown",
      "metadata": {
        "id": "frK7F0AuQ11N"
      },
      "source": [
        "### Mathtext"
      ]
    },
    {
      "cell_type": "code",
      "metadata": {
        "id": "PWPiGl-FQ8YH"
      },
      "source": [
        "plt.title(r,'$sigma_i=15$', fontsize=20)"
      ],
      "execution_count": null,
      "outputs": []
    },
    {
      "cell_type": "markdown",
      "metadata": {
        "id": "A209jmnuQ9Bl"
      },
      "source": [
        "### Limits, Legends & Layouts"
      ]
    },
    {
      "cell_type": "markdown",
      "metadata": {
        "id": "0DDurRZuRJmr"
      },
      "source": [
        "#### Limits & Autoscalling"
      ]
    },
    {
      "cell_type": "code",
      "metadata": {
        "id": "xYgq8QNWRFps"
      },
      "source": [
        "ax.margins(x=0.0, y=0.1)"
      ],
      "execution_count": null,
      "outputs": []
    },
    {
      "cell_type": "code",
      "metadata": {
        "id": "Km-02PofRHDv"
      },
      "source": [
        "ax.axis('equal')"
      ],
      "execution_count": null,
      "outputs": []
    },
    {
      "cell_type": "code",
      "metadata": {
        "id": "sRc7w1wHRHmM"
      },
      "source": [
        "ax.set(xlim=[0,10.5], ylim=[-1.5,1.5])"
      ],
      "execution_count": null,
      "outputs": []
    },
    {
      "cell_type": "code",
      "metadata": {
        "id": "zwGOx3wgcu1s"
      },
      "source": [
        "ax.set_xlim(0,10.5)"
      ],
      "execution_count": null,
      "outputs": []
    },
    {
      "cell_type": "markdown",
      "metadata": {
        "id": "hbJPel90UD3P"
      },
      "source": [
        "#### Legends"
      ]
    },
    {
      "cell_type": "code",
      "metadata": {
        "id": "zM8g_lMkUHYh"
      },
      "source": [
        "ax.set(title='An Example Axes',\n",
        "       ylabel = 'Y-Axis',\n",
        "       xlabel = 'X-Axis')"
      ],
      "execution_count": null,
      "outputs": []
    },
    {
      "cell_type": "code",
      "metadata": {
        "id": "Z46nojoBUHGH"
      },
      "source": [
        "ax.legend(loc='best')"
      ],
      "execution_count": null,
      "outputs": []
    },
    {
      "cell_type": "markdown",
      "metadata": {
        "id": "NmkCmUqsUOrd"
      },
      "source": [
        "#### Ticks"
      ]
    },
    {
      "cell_type": "code",
      "metadata": {
        "id": "fXahX4m8UV4O"
      },
      "source": [
        "ax.xaxis.set(ticks=range(1,5),\n",
        "             ticklabels=[3,100,-12,\"foo\"])"
      ],
      "execution_count": null,
      "outputs": []
    },
    {
      "cell_type": "code",
      "metadata": {
        "id": "FKWnvUEnUWCp"
      },
      "source": [
        "ax.tick_params(axis='y',\n",
        "               direction='inout',\n",
        "               length=10)"
      ],
      "execution_count": null,
      "outputs": []
    },
    {
      "cell_type": "markdown",
      "metadata": {
        "id": "aFcMhfqCdj6B"
      },
      "source": [
        "### Subplot Spacing"
      ]
    },
    {
      "cell_type": "code",
      "metadata": {
        "id": "mxKINXY7do3a"
      },
      "source": [
        "fig3.subplots_adjust(wspace=0.5,\n",
        "                     hspace=0.3,\n",
        "                     left=0.125,\n",
        "                     right=0.9,\n",
        "                     top=0.9,\n",
        "                     bottom=0.1)"
      ],
      "execution_count": null,
      "outputs": []
    },
    {
      "cell_type": "code",
      "metadata": {
        "id": "PjuPr87wd5it"
      },
      "source": [
        "fig.tight_layout()"
      ],
      "execution_count": null,
      "outputs": []
    },
    {
      "cell_type": "markdown",
      "metadata": {
        "id": "lnxlhotGUXCc"
      },
      "source": [
        "#### Axis Spines"
      ]
    },
    {
      "cell_type": "code",
      "metadata": {
        "id": "r0FkSH-oUd3S"
      },
      "source": [
        "ax1.spines['top'].set_visible"
      ],
      "execution_count": null,
      "outputs": []
    },
    {
      "cell_type": "code",
      "metadata": {
        "id": "HNI1YeibUfvo"
      },
      "source": [
        "ax1.spines['bottom'].set_position(('outward'),10)"
      ],
      "execution_count": null,
      "outputs": []
    },
    {
      "cell_type": "markdown",
      "metadata": {
        "id": "71uVzvNDUkHv"
      },
      "source": [
        "## Save Plot"
      ]
    },
    {
      "cell_type": "code",
      "metadata": {
        "id": "Ge4gj6npW-vm"
      },
      "source": [
        "plt.savefig('foo.png') #Save figures"
      ],
      "execution_count": null,
      "outputs": []
    },
    {
      "cell_type": "code",
      "metadata": {
        "id": "ywl_rq_NW-ll"
      },
      "source": [
        "plt.savefig('foo.png', transparent=True) #Save transparent figures"
      ],
      "execution_count": null,
      "outputs": []
    },
    {
      "cell_type": "markdown",
      "metadata": {
        "id": "ga4Ew8s7UpnI"
      },
      "source": [
        "## Show Plot"
      ]
    },
    {
      "cell_type": "code",
      "metadata": {
        "id": "wirXCKciW_Z9"
      },
      "source": [
        "plt.show()"
      ],
      "execution_count": null,
      "outputs": []
    },
    {
      "cell_type": "markdown",
      "metadata": {
        "id": "Y6TDqcEmUuMy"
      },
      "source": [
        "## Close & Clear"
      ]
    },
    {
      "cell_type": "code",
      "metadata": {
        "id": "6mFsoDrSXAIT"
      },
      "source": [
        "plt.cla() #Clear an axis"
      ],
      "execution_count": null,
      "outputs": []
    },
    {
      "cell_type": "code",
      "metadata": {
        "id": "Q38aDhteXAUi"
      },
      "source": [
        "plt.clf() #Clear the entire figure"
      ],
      "execution_count": null,
      "outputs": []
    },
    {
      "cell_type": "code",
      "metadata": {
        "id": "9n1v_SCOW__-"
      },
      "source": [
        "plt.close() #Close a window"
      ],
      "execution_count": null,
      "outputs": []
    }
  ]
}