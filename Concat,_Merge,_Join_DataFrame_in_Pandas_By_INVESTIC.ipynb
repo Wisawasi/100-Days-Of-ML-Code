{
  "nbformat": 4,
  "nbformat_minor": 0,
  "metadata": {
    "colab": {
      "name": "Concat, Merge, Join DataFrame in Pandas By INVESTIC",
      "provenance": [],
      "collapsed_sections": [],
      "include_colab_link": true
    },
    "kernelspec": {
      "name": "python3",
      "display_name": "Python 3"
    }
  },
  "cells": [
    {
      "cell_type": "markdown",
      "metadata": {
        "id": "view-in-github",
        "colab_type": "text"
      },
      "source": [
        "<a href=\"https://colab.research.google.com/github/Wisawasi/100-Days-Of-ML-Code/blob/master/Concat%2C_Merge%2C_Join_DataFrame_in_Pandas_By_INVESTIC.ipynb\" target=\"_parent\"><img src=\"https://colab.research.google.com/assets/colab-badge.svg\" alt=\"Open In Colab\"/></a>"
      ]
    },
    {
      "cell_type": "code",
      "metadata": {
        "id": "I3b_TJOUHFS4"
      },
      "source": [
        "import pandas as pd"
      ],
      "execution_count": null,
      "outputs": []
    },
    {
      "cell_type": "markdown",
      "metadata": {
        "id": "fiMdLxoqXko-"
      },
      "source": [
        "## Create DataFrame"
      ]
    },
    {
      "cell_type": "code",
      "metadata": {
        "id": "7ELktnruHO3R"
      },
      "source": [
        "dummy_data1 = {\n",
        "    'id' : ['1', '2', '3', '4', '5'],\n",
        "    'Feature1' : ['A', 'C', 'E', 'G', 'I'],\n",
        "    'Feature2' : ['B', 'D', 'F', 'H', 'J']}"
      ],
      "execution_count": null,
      "outputs": []
    },
    {
      "cell_type": "code",
      "metadata": {
        "id": "nLvim1VQHmIU"
      },
      "source": [
        "df1 = pd.DataFrame(dummy_data1, columns = ['id', 'Feature1', 'Feature2'])"
      ],
      "execution_count": null,
      "outputs": []
    },
    {
      "cell_type": "code",
      "metadata": {
        "id": "8uxhIRkNHwlE"
      },
      "source": [
        "df1"
      ],
      "execution_count": null,
      "outputs": []
    },
    {
      "cell_type": "code",
      "metadata": {
        "id": "NSFCLvOAH2Hg"
      },
      "source": [
        "dummy_data2 = {\n",
        "        'id': ['1', '2', '6', '7', '8'],\n",
        "        'Feature1': ['K', 'M', 'O', 'Q', 'S'],\n",
        "        'Feature2': ['L', 'N', 'P', 'R', 'T']}"
      ],
      "execution_count": null,
      "outputs": []
    },
    {
      "cell_type": "code",
      "metadata": {
        "id": "ZdG5iSp4H2sw"
      },
      "source": [
        "df2 = pd.DataFrame(dummy_data2, columns = ['id', 'Feature1', 'Feature2'])"
      ],
      "execution_count": null,
      "outputs": []
    },
    {
      "cell_type": "code",
      "metadata": {
        "id": "0_J9Rzy-H4oJ"
      },
      "source": [
        "df2"
      ],
      "execution_count": null,
      "outputs": []
    },
    {
      "cell_type": "code",
      "metadata": {
        "id": "oXzy2ixKH6wk"
      },
      "source": [
        "dummy_data3 = {\n",
        "        'id': ['1', '2', '3', '4', '5', '7', '8', '9', '10', '11'],\n",
        "        'Feature3': [12, 13, 14, 15, 16, 17, 15, 12, 13, 23]}"
      ],
      "execution_count": null,
      "outputs": []
    },
    {
      "cell_type": "code",
      "metadata": {
        "id": "xnzxMBcNH734"
      },
      "source": [
        "df3 = pd.DataFrame(dummy_data3, columns = ['id', 'Feature3'])"
      ],
      "execution_count": null,
      "outputs": []
    },
    {
      "cell_type": "code",
      "metadata": {
        "id": "0-eCGD1tH_DJ"
      },
      "source": [
        "df3"
      ],
      "execution_count": null,
      "outputs": []
    },
    {
      "cell_type": "markdown",
      "metadata": {
        "id": "pJ0iLYqWX7P1"
      },
      "source": [
        "## The simple cocatenate"
      ]
    },
    {
      "cell_type": "code",
      "metadata": {
        "id": "CE1LTz33IjZZ"
      },
      "source": [
        "df_row = pd.concat([df1, df2])"
      ],
      "execution_count": null,
      "outputs": []
    },
    {
      "cell_type": "code",
      "metadata": {
        "id": "x3zH6vp-Im_A"
      },
      "source": [
        "df_row"
      ],
      "execution_count": null,
      "outputs": []
    },
    {
      "cell_type": "code",
      "metadata": {
        "id": "jagCYMmFInzr"
      },
      "source": [
        "df_row_reindex = pd.concat([df1, df2], ignore_index=True)"
      ],
      "execution_count": null,
      "outputs": []
    },
    {
      "cell_type": "code",
      "metadata": {
        "id": "cErx_dNhIwox"
      },
      "source": [
        "df_row_reindex"
      ],
      "execution_count": null,
      "outputs": []
    },
    {
      "cell_type": "code",
      "metadata": {
        "id": "PRfLaB5TJAXz"
      },
      "source": [
        "frames = [df1,df2]"
      ],
      "execution_count": null,
      "outputs": []
    },
    {
      "cell_type": "code",
      "metadata": {
        "id": "H5V0dhhLJEPZ"
      },
      "source": [
        "df_keys = pd.concat(frames, keys=['x', 'y'])"
      ],
      "execution_count": null,
      "outputs": []
    },
    {
      "cell_type": "code",
      "metadata": {
        "id": "jdF_NgtIJNkk"
      },
      "source": [
        "df_keys"
      ],
      "execution_count": null,
      "outputs": []
    },
    {
      "cell_type": "code",
      "metadata": {
        "id": "I1Z1MM9mJPX6"
      },
      "source": [
        "df_keys.loc['y']"
      ],
      "execution_count": null,
      "outputs": []
    },
    {
      "cell_type": "code",
      "metadata": {
        "id": "Az06z4r1JTRs"
      },
      "source": [
        "pieces = {'x':df1, 'y':df2}"
      ],
      "execution_count": null,
      "outputs": []
    },
    {
      "cell_type": "code",
      "metadata": {
        "id": "GyWxeZbYJYrO"
      },
      "source": [
        "df_piece = pd.concat(pieces)"
      ],
      "execution_count": null,
      "outputs": []
    },
    {
      "cell_type": "code",
      "metadata": {
        "id": "hIyPB0dQJkry"
      },
      "source": [
        "df_piece"
      ],
      "execution_count": null,
      "outputs": []
    },
    {
      "cell_type": "code",
      "metadata": {
        "id": "kGtQkqslJyWp"
      },
      "source": [
        "df_col = pd.concat([df1, df2], axis=1)"
      ],
      "execution_count": null,
      "outputs": []
    },
    {
      "cell_type": "code",
      "metadata": {
        "id": "UR8hZ78KJ3Aj"
      },
      "source": [
        "df_col"
      ],
      "execution_count": null,
      "outputs": []
    },
    {
      "cell_type": "markdown",
      "metadata": {
        "id": "ehktA5_8YNVF"
      },
      "source": [
        "# Merge DataFrames"
      ]
    },
    {
      "cell_type": "code",
      "metadata": {
        "id": "MLvopNbKK95S"
      },
      "source": [
        "df_merge_col = pd.merge(df_row, df3, on='id')"
      ],
      "execution_count": null,
      "outputs": []
    },
    {
      "cell_type": "code",
      "metadata": {
        "id": "Mq7a_L-0LEMR"
      },
      "source": [
        "df_merge_col"
      ],
      "execution_count": null,
      "outputs": []
    },
    {
      "cell_type": "code",
      "metadata": {
        "id": "wJTLZztMLP0b"
      },
      "source": [
        "df_merge_difkey = pd.merge(df_row, df3, left_on='id', right_on='id')"
      ],
      "execution_count": null,
      "outputs": []
    },
    {
      "cell_type": "code",
      "metadata": {
        "id": "IKOWpGppLZDj"
      },
      "source": [
        "df_merge_difkey"
      ],
      "execution_count": null,
      "outputs": []
    },
    {
      "cell_type": "code",
      "metadata": {
        "id": "TZN58jUBTv7u"
      },
      "source": [
        "add_row = pd.Series(['10', 'X1', 'X2', 'X3'],\n",
        "                    index=['id','Feature1','Feature2','Feature3'])"
      ],
      "execution_count": null,
      "outputs": []
    },
    {
      "cell_type": "code",
      "metadata": {
        "id": "k7lWwcfjUmUS"
      },
      "source": [
        "df_add_row = df_merge_col.append(add_row, ignore_index=True)"
      ],
      "execution_count": null,
      "outputs": []
    },
    {
      "cell_type": "code",
      "metadata": {
        "id": "rmcG5HrfU7z1"
      },
      "source": [
        "df_add_row"
      ],
      "execution_count": null,
      "outputs": []
    },
    {
      "cell_type": "markdown",
      "metadata": {
        "id": "ZCoRR1mTYV1h"
      },
      "source": [
        "# Join DataFrames"
      ]
    },
    {
      "cell_type": "code",
      "metadata": {
        "id": "J37pUh4vqALs"
      },
      "source": [
        "df4 = pd.DataFrame ({'key': ['K0', 'K1', 'K2', 'K3', 'K4', 'K5'],\n",
        "                    'A': ['A0', 'A1', 'A2', 'A3', 'A4', 'A5']})"
      ],
      "execution_count": null,
      "outputs": []
    },
    {
      "cell_type": "code",
      "metadata": {
        "id": "ZG2IkRESqT3W"
      },
      "source": [
        "df4"
      ],
      "execution_count": null,
      "outputs": []
    },
    {
      "cell_type": "code",
      "metadata": {
        "id": "bI9KvLuAqU89"
      },
      "source": [
        "df5 = pd.DataFrame({'key': ['K0', 'K1', 'K2'],\n",
        "                    'B' : ['B0', 'B1', 'B2']})"
      ],
      "execution_count": null,
      "outputs": []
    },
    {
      "cell_type": "code",
      "metadata": {
        "id": "HC69sefdqkVg"
      },
      "source": [
        "df5"
      ],
      "execution_count": null,
      "outputs": []
    },
    {
      "cell_type": "code",
      "metadata": {
        "id": "h0Bwl6moqplu"
      },
      "source": [
        "df4.join(df5, lsuffix='_caller', rsuffix='_other')"
      ],
      "execution_count": null,
      "outputs": []
    },
    {
      "cell_type": "code",
      "metadata": {
        "id": "7j-E-jthq0AF"
      },
      "source": [
        "df4.set_index('key').join(df5.set_index('key'))"
      ],
      "execution_count": null,
      "outputs": []
    },
    {
      "cell_type": "code",
      "metadata": {
        "id": "sYiREVMiq7UL"
      },
      "source": [
        "df4.join(df5.set_index('key'), on='key')"
      ],
      "execution_count": null,
      "outputs": []
    },
    {
      "cell_type": "markdown",
      "metadata": {
        "id": "MFP2XfiZYb_q"
      },
      "source": [
        "## Full Outer Join"
      ]
    },
    {
      "cell_type": "code",
      "metadata": {
        "id": "zr8FzQ5rVIs8"
      },
      "source": [
        "df_outer = pd.merge(df1, df2, on='id', how='outer')"
      ],
      "execution_count": null,
      "outputs": []
    },
    {
      "cell_type": "code",
      "metadata": {
        "id": "Alq1WNSkVPe3"
      },
      "source": [
        "df_outer"
      ],
      "execution_count": null,
      "outputs": []
    },
    {
      "cell_type": "code",
      "metadata": {
        "id": "yFzSB1YfVQpD"
      },
      "source": [
        "df_suffix = pd.merge(df1, df2, left_on='id', right_on='id', how='outer', suffixes=('_left','_right'))"
      ],
      "execution_count": null,
      "outputs": []
    },
    {
      "cell_type": "code",
      "metadata": {
        "id": "nSx1ENgwVib8"
      },
      "source": [
        "df_suffix"
      ],
      "execution_count": null,
      "outputs": []
    },
    {
      "cell_type": "markdown",
      "metadata": {
        "id": "GQ3TU4qiYglE"
      },
      "source": [
        "## Inner Join "
      ]
    },
    {
      "cell_type": "code",
      "metadata": {
        "id": "6ZJvRP5-Vl8U"
      },
      "source": [
        "df_inner = pd.merge(df1, df2, on='id', how='inner')"
      ],
      "execution_count": null,
      "outputs": []
    },
    {
      "cell_type": "code",
      "metadata": {
        "id": "Kjy0mPy2VtZU"
      },
      "source": [
        "df_inner"
      ],
      "execution_count": null,
      "outputs": []
    },
    {
      "cell_type": "markdown",
      "metadata": {
        "id": "aZ1podcpYnin"
      },
      "source": [
        "## Right Join"
      ]
    },
    {
      "cell_type": "code",
      "metadata": {
        "id": "DFepFSgKVvIf"
      },
      "source": [
        "df_right = pd.merge(df1, df2, on='id', how='right')"
      ],
      "execution_count": null,
      "outputs": []
    },
    {
      "cell_type": "code",
      "metadata": {
        "id": "GtRD4LXyV1E_"
      },
      "source": [
        "df_right"
      ],
      "execution_count": null,
      "outputs": []
    },
    {
      "cell_type": "markdown",
      "metadata": {
        "id": "As3kKyW0YpyJ"
      },
      "source": [
        "## Left Join"
      ]
    },
    {
      "cell_type": "code",
      "metadata": {
        "id": "62GTHnj9V3F2"
      },
      "source": [
        "df_left = pd.merge(df1, df2, on='id', how='left')"
      ],
      "execution_count": null,
      "outputs": []
    },
    {
      "cell_type": "code",
      "metadata": {
        "id": "d1UVbpoEWAaG"
      },
      "source": [
        "df_left"
      ],
      "execution_count": null,
      "outputs": []
    },
    {
      "cell_type": "markdown",
      "metadata": {
        "id": "ZLaJuXnVYuTW"
      },
      "source": [
        "## Joining Index\n"
      ]
    },
    {
      "cell_type": "code",
      "metadata": {
        "id": "34IiV_bkWIaU"
      },
      "source": [
        "df_index = pd.merge(df1, df2, right_index=True, left_index=True)"
      ],
      "execution_count": null,
      "outputs": []
    },
    {
      "cell_type": "code",
      "metadata": {
        "id": "8nO0L_upWS9W"
      },
      "source": [
        "df_index"
      ],
      "execution_count": null,
      "outputs": []
    }
  ]
}