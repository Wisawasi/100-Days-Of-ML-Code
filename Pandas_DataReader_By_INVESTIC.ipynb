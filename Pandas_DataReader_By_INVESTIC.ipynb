{
  "nbformat": 4,
  "nbformat_minor": 0,
  "metadata": {
    "colab": {
      "name": "Pandas_DataReader By INVESTIC",
      "provenance": [],
      "collapsed_sections": [],
      "include_colab_link": true
    },
    "kernelspec": {
      "name": "python3",
      "display_name": "Python 3"
    }
  },
  "cells": [
    {
      "cell_type": "markdown",
      "metadata": {
        "id": "view-in-github",
        "colab_type": "text"
      },
      "source": [
        "<a href=\"https://colab.research.google.com/github/Wisawasi/100-Days-Of-ML-Code/blob/master/Pandas_DataReader_By_INVESTIC.ipynb\" target=\"_parent\"><img src=\"https://colab.research.google.com/assets/colab-badge.svg\" alt=\"Open In Colab\"/></a>"
      ]
    },
    {
      "cell_type": "markdown",
      "metadata": {
        "id": "-AEMCEH4NDJ3"
      },
      "source": [
        "### import libraries"
      ]
    },
    {
      "cell_type": "markdown",
      "metadata": {
        "id": "QcKWeygnBeAu"
      },
      "source": [
        "ปล. อย่าลืม install library กันนะทุกคนนนนน"
      ]
    },
    {
      "cell_type": "code",
      "metadata": {
        "id": "fYRQzVDpIpBm"
      },
      "source": [
        "import pandas as pd\n",
        "import pandas_datareader as web\n",
        "import datetime as dt"
      ],
      "execution_count": null,
      "outputs": []
    },
    {
      "cell_type": "markdown",
      "metadata": {
        "id": "orRslyqKNLfQ"
      },
      "source": [
        "เริ่มที่แต่ละตัวเลยคือ จะใช้ Library pandas datareader เพื่อดึงข้อมูล และ source ที่ใช้ก็เป็น yahoo finance เหมือนเดิมนะครับ"
      ]
    },
    {
      "cell_type": "markdown",
      "metadata": {
        "id": "fH9cndnAUXwD"
      },
      "source": [
        "### DataReader"
      ]
    },
    {
      "cell_type": "code",
      "metadata": {
        "id": "Ez8g-nBQK7df"
      },
      "source": [
        "df = web.DataReader('AAPL', start='2010-01-01', end='2020-11-01', data_source='yahoo')"
      ],
      "execution_count": null,
      "outputs": []
    },
    {
      "cell_type": "markdown",
      "metadata": {
        "id": "hlUMuj0aNgEE"
      },
      "source": [
        "พูดง่ายๆนะครับเผื่อมือใหม่ (1,2,3,4)\n",
        "\n",
        "1.คือสัญลักษณ์ของหุ้นที่เราเลือก เช่น ตัวนี้คือ Apple ใช้สัญลักษณ์เป็น AAPL\n",
        "\n",
        "2.วันที่เราจะเริ่มดึงข้อมูลว่าจะเริ่มวันที่เท่าไหร่ (ปี/เดือน/วัน)\n",
        "\n",
        "3.วันที่หยุดดึง\n",
        "\n",
        "4.source ที่เราจะดึงข้อมูลมา เช่น อันนี้เราใช้ yahoo "
      ]
    },
    {
      "cell_type": "code",
      "metadata": {
        "id": "2IwrAIRdLTcX"
      },
      "source": [
        "df"
      ],
      "execution_count": null,
      "outputs": []
    },
    {
      "cell_type": "markdown",
      "metadata": {
        "id": "kF4iiytTO8BH"
      },
      "source": [
        "ลองรันดูจะออกมาเป็น DataFramel สวยๆ"
      ]
    },
    {
      "cell_type": "markdown",
      "metadata": {
        "id": "IJd_rJNWPXjc"
      },
      "source": [
        "เราสามารถแยกออกมาได้ ถ้าไม่อยากพิมพ์ยาวๆไว้ในวงเล็บ ก็แยกออกมาทีละตัว โดยการสร้างแล้วใส่ไว้ในตัวแปร (แล้วแต่จะตั้งชื่อนะ)\n",
        "\n",
        "ticker \n",
        "\n",
        "start\n",
        "\n",
        "end"
      ]
    },
    {
      "cell_type": "code",
      "metadata": {
        "id": "57dDmuSxJNUE"
      },
      "source": [
        "ticker = ['AAPL']"
      ],
      "execution_count": null,
      "outputs": []
    },
    {
      "cell_type": "markdown",
      "metadata": {
        "id": "A2qBz9GJPCK7"
      },
      "source": [
        "ช่องแรกก็คือ ticker เราก็ใส่หุ้นที่เลือกเหมือนเดิมครับ"
      ]
    },
    {
      "cell_type": "code",
      "metadata": {
        "id": "I6NH1xnVJWVj"
      },
      "source": [
        "start = '2010-01-01'"
      ],
      "execution_count": null,
      "outputs": []
    },
    {
      "cell_type": "markdown",
      "metadata": {
        "id": "f1-XOoPIPg0D"
      },
      "source": [
        "ช่องนี้ก็วันที่ (ปี/เดือน/วัน)"
      ]
    },
    {
      "cell_type": "code",
      "metadata": {
        "id": "a8L4Ez8DJZL-"
      },
      "source": [
        "end = '2020-11-01'"
      ],
      "execution_count": null,
      "outputs": []
    },
    {
      "cell_type": "code",
      "metadata": {
        "id": "thJgZ-6yKSwg"
      },
      "source": [
        "df = web.DataReader(ticker, start=start, end=end, data_source='yahoo')"
      ],
      "execution_count": null,
      "outputs": []
    },
    {
      "cell_type": "markdown",
      "metadata": {
        "id": "LamK23MNPpyA"
      },
      "source": [
        "สุดท้ายก็เอาตัวแปรที่สร้างมาจากข้างบนมาใส่ตามตำแหน่ง แล้วก็รัน"
      ]
    },
    {
      "cell_type": "code",
      "metadata": {
        "id": "EFZAVlR9KVqw"
      },
      "source": [
        "df"
      ],
      "execution_count": null,
      "outputs": []
    },
    {
      "cell_type": "markdown",
      "metadata": {
        "id": "ZkIG5Z1-Pxef"
      },
      "source": [
        "ผลลัพธ์ก็ๆด้เหมือนกันครับ"
      ]
    },
    {
      "cell_type": "code",
      "metadata": {
        "id": "ls6BimrqKmh4"
      },
      "source": [
        "tickers = ['AAPL', 'FB']"
      ],
      "execution_count": null,
      "outputs": []
    },
    {
      "cell_type": "markdown",
      "metadata": {
        "id": "f-mW0CMlP2T1"
      },
      "source": [
        "หรือเราจะเพิ่มหุ้นก็ได้ ก็ใส่ไปสักสองสามตัว อยากใส่เพิ่มลองเปลี่ยนดูนะ"
      ]
    },
    {
      "cell_type": "code",
      "metadata": {
        "id": "KSb5Ac4rKXmg"
      },
      "source": [
        "start, end = '2016-01-10', '2020-11-01'"
      ],
      "execution_count": null,
      "outputs": []
    },
    {
      "cell_type": "markdown",
      "metadata": {
        "id": "WEqgnbbsP8vN"
      },
      "source": [
        "ความขี้เกียจก็ได้เกิดขึ้นกับผม 55555 ใช้ start กับ end ช่องเดียวกันซะเลยย"
      ]
    },
    {
      "cell_type": "code",
      "metadata": {
        "id": "9fzWbzKxKl68"
      },
      "source": [
        "df = web.DataReader(tickers, start=start, end=end, data_source='yahoo')"
      ],
      "execution_count": null,
      "outputs": []
    },
    {
      "cell_type": "markdown",
      "metadata": {
        "id": "ly27C1mhQFD6"
      },
      "source": [
        "ใส่ตามช่องเหมือนเดิมฮะ"
      ]
    },
    {
      "cell_type": "markdown",
      "metadata": {
        "id": "_LA7aZ3zS_EX"
      },
      "source": [
        "ถัดมาจะเป็น Library yfinance บ้างนะครับ"
      ]
    },
    {
      "cell_type": "markdown",
      "metadata": {
        "id": "OMJgOVkPUddO"
      },
      "source": [
        "### yfinance"
      ]
    },
    {
      "cell_type": "code",
      "metadata": {
        "id": "Hf1rE7RQLZXS"
      },
      "source": [
        "import yfinance as yf"
      ],
      "execution_count": null,
      "outputs": []
    },
    {
      "cell_type": "code",
      "metadata": {
        "id": "Zg8AOGgvLb4m"
      },
      "source": [
        "tickerSymbol = 'MSFT'"
      ],
      "execution_count": null,
      "outputs": []
    },
    {
      "cell_type": "markdown",
      "metadata": {
        "id": "dRn-5psfTUXw"
      },
      "source": [
        "ทำเหมือนเดิมครับเลือกหุ้น อันนี้ของเลือกเป็น Microsoft บ้างนะครับ"
      ]
    },
    {
      "cell_type": "code",
      "metadata": {
        "id": "3LhOkVqMLecJ"
      },
      "source": [
        "tickerData = yf.Ticker(tickerSymbol)"
      ],
      "execution_count": null,
      "outputs": []
    },
    {
      "cell_type": "markdown",
      "metadata": {
        "id": "TnHOftyzTaxS"
      },
      "source": [
        "ต่อไปก็ทำการ ticker data นะ ขอใช้คำหรูๆหน่อย 555 มันก็ดึงข้อมูลนั้นแหละ"
      ]
    },
    {
      "cell_type": "code",
      "metadata": {
        "id": "liKUW7ZNLjqK"
      },
      "source": [
        "tickerDf = tickerData.history(period='1d', start='2010-01-01', end='2020-11-25')"
      ],
      "execution_count": null,
      "outputs": []
    },
    {
      "cell_type": "markdown",
      "metadata": {
        "id": "7GRBrYAyToBb"
      },
      "source": [
        "เสร็จแล้วก็มาเก็บไว้ใน DataFrame ใส่ด้วยนะว่าจะเอา Peroid เท่าไหร่ เริ่มวันไหน จบ วันไหน"
      ]
    },
    {
      "cell_type": "code",
      "metadata": {
        "id": "5OCMZWGILzNQ"
      },
      "source": [
        "tickerDf"
      ],
      "execution_count": null,
      "outputs": []
    },
    {
      "cell_type": "markdown",
      "metadata": {
        "id": "UEswOZR7TyQ0"
      },
      "source": [
        "อ่ะ รันละมาดูข้อมูล"
      ]
    },
    {
      "cell_type": "code",
      "metadata": {
        "id": "n55Cug79L1bB"
      },
      "source": [
        "tickerData.calendar"
      ],
      "execution_count": null,
      "outputs": []
    },
    {
      "cell_type": "markdown",
      "metadata": {
        "id": "sFGeZ7NVT1Jf"
      },
      "source": [
        "ข้อดีมาแล้ววว มันมี Calendar ให้ดูด้วยยยย"
      ]
    },
    {
      "cell_type": "code",
      "metadata": {
        "id": "MhS2BtjGL5Sg"
      },
      "source": [
        "tickerData.recommendations"
      ],
      "execution_count": null,
      "outputs": []
    },
    {
      "cell_type": "markdown",
      "metadata": {
        "id": "-edMgzqTT5S4"
      },
      "source": [
        "และอีกอันก็คือออ มันก็มี recommendations ให้อ่านเยอะอยู่นะ ไว้จะมาสอนให้เก็บลงไปไว้เป็นไฟล์ CSV หรือ Excel เผื่ออยากไปอ่านนะครับ"
      ]
    },
    {
      "cell_type": "markdown",
      "metadata": {
        "id": "FRycRugrUhaM"
      },
      "source": [
        "### Get_data_yahoo "
      ]
    },
    {
      "cell_type": "markdown",
      "metadata": {
        "id": "HxuslfINUHdR"
      },
      "source": [
        "เอาใจสายหุ้นไทยยย ขอเป็น PTT ละกันนะ"
      ]
    },
    {
      "cell_type": "code",
      "metadata": {
        "id": "J3AXCfo6L8TB"
      },
      "source": [
        "pttgc = web.get_data_yahoo('PTTGC.BK', start=dt.datetime(2020,1,1), end=dt.datetime(2020, 11, 20))"
      ],
      "execution_count": null,
      "outputs": []
    },
    {
      "cell_type": "code",
      "metadata": {
        "id": "-1Ai2athMOWH"
      },
      "source": [
        "pttgc"
      ],
      "execution_count": null,
      "outputs": []
    }
  ]
}