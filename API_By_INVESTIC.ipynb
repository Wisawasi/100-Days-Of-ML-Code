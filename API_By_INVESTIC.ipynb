{
  "nbformat": 4,
  "nbformat_minor": 0,
  "metadata": {
    "colab": {
      "name": "API By INVESTIC",
      "provenance": [],
      "collapsed_sections": [],
      "include_colab_link": true
    },
    "kernelspec": {
      "name": "python3",
      "display_name": "Python 3"
    }
  },
  "cells": [
    {
      "cell_type": "markdown",
      "metadata": {
        "id": "view-in-github",
        "colab_type": "text"
      },
      "source": [
        "<a href=\"https://colab.research.google.com/github/Wisawasi/100-Days-Of-ML-Code/blob/master/API_By_INVESTIC.ipynb\" target=\"_parent\"><img src=\"https://colab.research.google.com/assets/colab-badge.svg\" alt=\"Open In Colab\"/></a>"
      ]
    },
    {
      "cell_type": "markdown",
      "metadata": {
        "id": "K3Mj2NnksSr4"
      },
      "source": [
        "ก่อนอื่นเลย อย่าลืมมมม!!! install นะครับ"
      ]
    },
    {
      "cell_type": "code",
      "metadata": {
        "id": "6Z3ycLQqaP0D"
      },
      "source": [
        "# pip install quandl"
      ],
      "execution_count": null,
      "outputs": []
    },
    {
      "cell_type": "markdown",
      "metadata": {
        "id": "bhvSMixHsaUT"
      },
      "source": [
        "แล้วก็ทำการ import library quandl"
      ]
    },
    {
      "cell_type": "code",
      "metadata": {
        "id": "_dVIFrvqAfwT"
      },
      "source": [
        "import quandl"
      ],
      "execution_count": null,
      "outputs": []
    },
    {
      "cell_type": "markdown",
      "metadata": {
        "id": "WdeQIudDseqj"
      },
      "source": [
        "คราวนี้แหละจะมาในส่วนของการใส่ API_Key ต้องไป Sign up เป็น User ก่อนนะ แล้วเดี๋ยว quandl จะ gen API_Key มาให้เอง ถ้าไม่ถูกไปตามรูปเลยย ของ sensor API_Key ของผมไว้ก่อนนะ\n",
        "\n",
        "ปล.มันจะเข้าไปที่ Your Profile นะครับเผื่อใครหาไม่เจอ"
      ]
    },
    {
      "cell_type": "markdown",
      "metadata": {
        "id": "i_kEmto6s1_H"
      },
      "source": [
        "![APIKey.PNG](data:image/png;base64,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)"
      ]
    },
    {
      "cell_type": "code",
      "metadata": {
        "id": "xSvevAxlA-Pw"
      },
      "source": [
        "quandl.ApiConfig.api_key = 'Your_API_Key'"
      ],
      "execution_count": null,
      "outputs": []
    },
    {
      "cell_type": "markdown",
      "metadata": {
        "id": "QttkJGFQs-qC"
      },
      "source": [
        "คราวนี้เราก็ทำการ Get Data มาได้เลย แต่ quandl จะต้องเข้าไปหาข้อมูลกันนิดนึงมันจะมีรูปแบบของมันเช่นอันนี้จะเป็นแบบ EOD/AAPL อะไรแบบนั้น ลองไปเล่นกันดูในเว็บนะมีลิงก์อยู่ใน Post\n",
        "\n",
        "ตัวอย่างว่าจะเขียนพวกรหัสยังไงบอกเลยว่ามีเยอะมากกกกกก ลองไปเล่นดูนะครับ\n",
        "https://www.quandl.com/data/EIA-U-S-Energy-Information-Administration-Data/documentation"
      ]
    },
    {
      "cell_type": "code",
      "metadata": {
        "id": "4h_ZWwKLBCIE"
      },
      "source": [
        "AAPL_EOD = quandl.get('EOD/AAPL')"
      ],
      "execution_count": null,
      "outputs": []
    },
    {
      "cell_type": "code",
      "metadata": {
        "id": "vXhG_DUUBJ0-"
      },
      "source": [
        "AAPL_EOD.head()"
      ],
      "execution_count": null,
      "outputs": []
    },
    {
      "cell_type": "code",
      "metadata": {
        "id": "Udvh58B6BNOH"
      },
      "source": [
        "AAPL.EOD.tail()"
      ],
      "execution_count": null,
      "outputs": []
    },
    {
      "cell_type": "markdown",
      "metadata": {
        "id": "DhMDqBy9tOlZ"
      },
      "source": [
        "อันนี้ก็จะเป็นดึงราคาน้ำมัน"
      ]
    },
    {
      "cell_type": "code",
      "metadata": {
        "id": "gRhExsOhoK9s"
      },
      "source": [
        "Oil = quandl.get('EIA/PET_RETC_D')"
      ],
      "execution_count": null,
      "outputs": []
    },
    {
      "cell_type": "code",
      "metadata": {
        "id": "K1ytC2pDrilR"
      },
      "source": [
        "Oil"
      ],
      "execution_count": null,
      "outputs": []
    },
    {
      "cell_type": "markdown",
      "metadata": {
        "id": "H7Vp4hq7tTCa"
      },
      "source": [
        "GDP ก็ดึงได้น้าาาา"
      ]
    },
    {
      "cell_type": "code",
      "metadata": {
        "id": "gqMPt621roF7"
      },
      "source": [
        "GDP = quandl.get('FRED/GDP', start_date=\"2019-12-31\", end_date=\"2020-9-26\")"
      ],
      "execution_count": null,
      "outputs": []
    },
    {
      "cell_type": "code",
      "metadata": {
        "id": "aTx8sUFOr1pH"
      },
      "source": [
        "GDP"
      ],
      "execution_count": null,
      "outputs": []
    },
    {
      "cell_type": "markdown",
      "metadata": {
        "id": "P5BpF00VtWDI"
      },
      "source": [
        "แม้แต่กระทั่ง Annaul ก็ไม่เว้น"
      ]
    },
    {
      "cell_type": "code",
      "metadata": {
        "id": "SOJFu9s1r44G"
      },
      "source": [
        "FB = quandl.get('WIKI/FB', collapse='annual')"
      ],
      "execution_count": null,
      "outputs": []
    },
    {
      "cell_type": "code",
      "metadata": {
        "id": "6Xwl_8PTsHIC"
      },
      "source": [
        "FB"
      ],
      "execution_count": null,
      "outputs": []
    },
    {
      "cell_type": "markdown",
      "metadata": {
        "id": "P4aV68OitbWH"
      },
      "source": [
        "สุดท้ายก็ดึงแบบหุ้นหลายๆตัว ก็ใส่เป็นตัวแปรไปแทนเลยยถ้าขยันก็ลองไปเปลี่ยนชื่อหุ้นแล้วลองดึงกันนะครับ"
      ]
    },
    {
      "cell_type": "code",
      "metadata": {
        "id": "Wj1npqQ1Z_Cs"
      },
      "source": [
        "data = quandl.get_table('WIKI/PRICES', ticker = ['AAPL', 'MSFT', 'WMT'],\n",
        "                        qopts = {'columns': ['ticker', 'date', 'adj_close']},\n",
        "                        date = {'gte' : '2015-12-31', 'lte':'2016-12-31'},\n",
        "                        paginate=True)"
      ],
      "execution_count": null,
      "outputs": []
    },
    {
      "cell_type": "code",
      "metadata": {
        "id": "akjRwx1OaCUs"
      },
      "source": [
        "data()"
      ],
      "execution_count": null,
      "outputs": []
    }
  ]
}